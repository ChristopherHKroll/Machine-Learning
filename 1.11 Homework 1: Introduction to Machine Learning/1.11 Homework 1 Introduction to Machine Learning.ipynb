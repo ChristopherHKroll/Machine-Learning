{
 "cells": [
  {
   "cell_type": "markdown",
   "id": "56fc6124",
   "metadata": {},
   "source": [
    "## 1.11 Homework 1: Introduction to Machine Learning"
   ]
  },
  {
   "cell_type": "markdown",
   "id": "bd9a37fc",
   "metadata": {},
   "source": [
    "### Q1. Pandas version\n",
    "\n",
    "What's the version of Pandas that you installed?\n",
    "\n",
    "You can get the version information using the __version__ field:"
   ]
  },
  {
   "cell_type": "code",
   "execution_count": 143,
   "id": "7de76231",
   "metadata": {},
   "outputs": [],
   "source": [
    "# Import Numpy, Pandas, matplotlib and seaborn libraries\n",
    "\n",
    "import numpy as np\n",
    "import pandas as pd\n",
    "import matplotlib.pyplot as plt\n",
    "import seaborn as sns"
   ]
  },
  {
   "cell_type": "code",
   "execution_count": 144,
   "id": "6193f62c",
   "metadata": {},
   "outputs": [
    {
     "data": {
      "text/plain": [
       "'1.5.3'"
      ]
     },
     "execution_count": 144,
     "metadata": {},
     "output_type": "execute_result"
    }
   ],
   "source": [
    "# Get version of Pandas\n",
    "\n",
    "pd.__version__"
   ]
  },
  {
   "cell_type": "markdown",
   "id": "b5e2cd8e",
   "metadata": {},
   "source": [
    "### Getting the data\n",
    "\n",
    "Source: Laptops Price dataset (https://raw.githubusercontent.com/alexeygrigorev/datasets/master/laptops.csv)"
   ]
  },
  {
   "cell_type": "code",
   "execution_count": 137,
   "id": "46febdd7",
   "metadata": {},
   "outputs": [],
   "source": [
    "# Import dataset as Pandas dataframe 'laptops'\n",
    "\n",
    "df_laptops = pd.read_csv('laptops.csv')"
   ]
  },
  {
   "cell_type": "markdown",
   "id": "7bf2e7eb",
   "metadata": {},
   "source": [
    "#### Q1 - Answer: 1.5.3"
   ]
  },
  {
   "cell_type": "markdown",
   "id": "aa5d5680",
   "metadata": {},
   "source": [
    "### Q2. Records count\n",
    "\n",
    "How many records are in the dataset?"
   ]
  },
  {
   "cell_type": "code",
   "execution_count": 138,
   "id": "f20c0f2e",
   "metadata": {},
   "outputs": [
    {
     "name": "stdout",
     "output_type": "stream",
     "text": [
      "<bound method NDFrame.head of                                                  Laptop       Status   Brand  \\\n",
      "0     ASUS ExpertBook B1 B1502CBA-EJ0436X Intel Core...          New    Asus   \n",
      "1     Alurin Go Start Intel Celeron N4020/8GB/256GB ...          New  Alurin   \n",
      "2     ASUS ExpertBook B1 B1502CBA-EJ0424X Intel Core...          New    Asus   \n",
      "3     MSI Katana GF66 12UC-082XES Intel Core i7-1270...          New     MSI   \n",
      "4     HP 15S-FQ5085NS Intel Core i5-1235U/16GB/512GB...          New      HP   \n",
      "...                                                 ...          ...     ...   \n",
      "2155  Razer Blade 17 FHD 360Hz Intel Core i7-11800H/...  Refurbished   Razer   \n",
      "2156  Razer Blade 17 FHD 360Hz Intel Core i7-11800H/...  Refurbished   Razer   \n",
      "2157  Razer Blade 17 FHD 360Hz Intel Core i7-11800H/...  Refurbished   Razer   \n",
      "2158  Razer Book 13 Intel Evo Core i7-1165G7/16GB/1T...  Refurbished   Razer   \n",
      "2159  Razer Book FHD+ Intel Evo Core i7-1165G7/16GB/...  Refurbished   Razer   \n",
      "\n",
      "           Model                CPU  RAM  Storage Storage type       GPU  \\\n",
      "0     ExpertBook      Intel Core i5    8      512          SSD       NaN   \n",
      "1             Go      Intel Celeron    8      256          SSD       NaN   \n",
      "2     ExpertBook      Intel Core i3    8      256          SSD       NaN   \n",
      "3         Katana      Intel Core i7   16     1000          SSD  RTX 3050   \n",
      "4            15S      Intel Core i5   16      512          SSD       NaN   \n",
      "...          ...                ...  ...      ...          ...       ...   \n",
      "2155       Blade      Intel Core i7   16     1000          SSD  RTX 3060   \n",
      "2156       Blade      Intel Core i7   16     1000          SSD  RTX 3070   \n",
      "2157       Blade      Intel Core i7   32     1000          SSD  RTX 3080   \n",
      "2158        Book  Intel Evo Core i7   16     1000          SSD       NaN   \n",
      "2159        Book  Intel Evo Core i7   16      256          SSD       NaN   \n",
      "\n",
      "      Screen Touch  Final Price  \n",
      "0       15.6    No      1009.00  \n",
      "1       15.6    No       299.00  \n",
      "2       15.6    No       789.00  \n",
      "3       15.6    No      1199.00  \n",
      "4       15.6    No       669.01  \n",
      "...      ...   ...          ...  \n",
      "2155    17.3    No      2699.99  \n",
      "2156    17.3    No      2899.99  \n",
      "2157    17.3    No      3399.99  \n",
      "2158    13.4   Yes      1899.99  \n",
      "2159    13.4   Yes      1699.99  \n",
      "\n",
      "[2160 rows x 12 columns]>\n",
      "(2160, 12)\n"
     ]
    }
   ],
   "source": [
    "# Head and Shape of dataframe 'laptops'\n",
    "\n",
    "laptops_head = df_laptops.head\n",
    "laptops_shape = df_laptops.shape\n",
    "\n",
    "print(laptops_head)\n",
    "print(laptops_shape)"
   ]
  },
  {
   "cell_type": "markdown",
   "id": "54848260",
   "metadata": {},
   "source": [
    "#### Q2 - Answer: 2160"
   ]
  },
  {
   "cell_type": "markdown",
   "id": "ec7b5e22",
   "metadata": {},
   "source": [
    "### Q3. Laptop brands\n",
    "\n",
    "How many laptop brands are presented in the dataset?"
   ]
  },
  {
   "cell_type": "code",
   "execution_count": 139,
   "id": "53ebd2e8",
   "metadata": {},
   "outputs": [
    {
     "name": "stdout",
     "output_type": "stream",
     "text": [
      "Index(['Laptop', 'Status', 'Brand', 'Model', 'CPU', 'RAM', 'Storage',\n",
      "       'Storage type', 'GPU', 'Screen', 'Touch', 'Final Price'],\n",
      "      dtype='object')\n"
     ]
    }
   ],
   "source": [
    "# Show all columns of dataframe 'laptops'\n",
    "\n",
    "laptops_columns = df_laptops.columns\n",
    "\n",
    "print(laptops_columns)"
   ]
  },
  {
   "cell_type": "code",
   "execution_count": 140,
   "id": "29e3f995",
   "metadata": {},
   "outputs": [
    {
     "name": "stdout",
     "output_type": "stream",
     "text": [
      "['Asus' 'Alurin' 'MSI' 'HP' 'Lenovo' 'Medion' 'Acer' 'Apple' 'Razer'\n",
      " 'Gigabyte' 'Dell' 'LG' 'Samsung' 'PcCom' 'Microsoft' 'Primux' 'Prixton'\n",
      " 'Dynabook Toshiba' 'Thomson' 'Denver' 'Deep Gaming' 'Vant' 'Innjoo'\n",
      " 'Jetwing' 'Millenium' 'Realme' 'Toshiba']\n",
      "27\n"
     ]
    }
   ],
   "source": [
    "# Show and count unique names in column 'Brand'\n",
    "\n",
    "brands_unique = df_laptops['Brand'].unique()\n",
    "brands_unique_num =  df_laptops['Brand'].nunique()\n",
    "\n",
    "print(brands_unique)\n",
    "print(brands_unique_num)"
   ]
  },
  {
   "cell_type": "markdown",
   "id": "736b2d2a",
   "metadata": {},
   "source": [
    "#### Q3 - Answer: 27"
   ]
  },
  {
   "cell_type": "markdown",
   "id": "ef7b9303",
   "metadata": {},
   "source": [
    "### Q4. Missing values\n",
    "\n",
    "How many columns in the dataset have missing values?"
   ]
  },
  {
   "cell_type": "code",
   "execution_count": 141,
   "id": "692cd498",
   "metadata": {
    "scrolled": true
   },
   "outputs": [
    {
     "name": "stdout",
     "output_type": "stream",
     "text": [
      "Laptop          False\n",
      "Status          False\n",
      "Brand           False\n",
      "Model           False\n",
      "CPU             False\n",
      "RAM             False\n",
      "Storage         False\n",
      "Storage type     True\n",
      "GPU              True\n",
      "Screen           True\n",
      "Touch           False\n",
      "Final Price     False\n",
      "dtype: bool\n",
      "3\n"
     ]
    }
   ],
   "source": [
    "# Identify and count the number of columns with missing values in dataframe 'laptops'\n",
    "\n",
    "laptops_col_null = df_laptops.isnull().any()\n",
    "laptops_col_null_sum = df_laptops.isnull().sum().gt(0).sum()\n",
    "\n",
    "print(laptops_col_null)\n",
    "print(laptops_col_null_sum)"
   ]
  },
  {
   "cell_type": "markdown",
   "id": "861cdfc5",
   "metadata": {},
   "source": [
    "#### Q4 - Answer: 3"
   ]
  },
  {
   "cell_type": "markdown",
   "id": "2a2fe101",
   "metadata": {},
   "source": [
    "### Q5. Maximum final price\n",
    "\n",
    "What's the maximum final price of Dell notebooks in the dataset?"
   ]
  },
  {
   "cell_type": "code",
   "execution_count": 142,
   "id": "18ce675f",
   "metadata": {},
   "outputs": [
    {
     "name": "stdout",
     "output_type": "stream",
     "text": [
      "                                                 Laptop       Status Brand  \\\n",
      "161   Dell Vostro 3510 Intel Core i3-1115G4/8 GB/256...          New  Dell   \n",
      "271   Dell Vostro 3510 Intel Core i5-1135G7/8 GB/256...          New  Dell   \n",
      "281   Dell Vostro 3520 Intel Core i7-1255U/16GB/512G...          New  Dell   \n",
      "319   Dell Latitude 3520 Intel Core i5-1135G7/8GB/25...          New  Dell   \n",
      "328   Dell Vostro 3510 Intel Core i5-1135G7/16 GB/51...          New  Dell   \n",
      "...                                                 ...          ...   ...   \n",
      "1843  Dell Vostro 5301 Intel Core i5-1135G7/8GB/256G...  Refurbished  Dell   \n",
      "1844  Dell Vostro 5301 Intel Core i5-1135G7/8GB/512G...  Refurbished  Dell   \n",
      "1845  Dell Vostro 5502 Intel Core i5-1135G7/8GB/512G...  Refurbished  Dell   \n",
      "1846  Dell XPS 13 9300 Intel Core i5-1035G1/8GB/512G...  Refurbished  Dell   \n",
      "1847  Dell XPS 7390 Intel Core i7-10510U/16GB/512GB ...  Refurbished  Dell   \n",
      "\n",
      "         Model            CPU  RAM  Storage Storage type  GPU  Screen Touch  \\\n",
      "161     Vostro  Intel Core i3    8      256          SSD  NaN    15.6    No   \n",
      "271     Vostro  Intel Core i5    8      256          SSD  NaN    15.6    No   \n",
      "281     Vostro  Intel Core i7   16      512          SSD  NaN    15.6    No   \n",
      "319   Latitude  Intel Core i5    8      256          SSD  NaN    15.6    No   \n",
      "328     Vostro  Intel Core i5   16      512          SSD  NaN    15.6    No   \n",
      "...        ...            ...  ...      ...          ...  ...     ...   ...   \n",
      "1843    Vostro  Intel Core i5    8      256          SSD  NaN    13.3    No   \n",
      "1844    Vostro  Intel Core i5    8      512          SSD  NaN    13.3    No   \n",
      "1845    Vostro  Intel Core i5    8      512          SSD  NaN    15.6    No   \n",
      "1846       XPS  Intel Core i5    8      512          SSD  NaN    13.4    No   \n",
      "1847       XPS  Intel Core i7   16      512          SSD  NaN    13.3    No   \n",
      "\n",
      "      Final Price  \n",
      "161        599.00  \n",
      "271        690.15  \n",
      "281        889.00  \n",
      "319        789.00  \n",
      "328        869.00  \n",
      "...           ...  \n",
      "1843       420.74  \n",
      "1844       511.59  \n",
      "1845       549.93  \n",
      "1846       699.00  \n",
      "1847      1086.88  \n",
      "\n",
      "[84 rows x 12 columns]\n",
      "3936.0\n"
     ]
    }
   ],
   "source": [
    "# Filter dataframe 'laptops' by Brand 'Dell'\n",
    "\n",
    "df_laptops_dell = df_laptops.loc[df_laptops['Brand']  == 'Dell']\n",
    "\n",
    "df_laptops_dell_max_price = df_laptops_dell['Final Price'].max()\n",
    "\n",
    "print(df_laptops_dell)\n",
    "print(df_laptops_dell_max_price)"
   ]
  },
  {
   "cell_type": "markdown",
   "id": "f7aa39bc",
   "metadata": {},
   "source": [
    "#### Q5 - Answer: 3936"
   ]
  },
  {
   "cell_type": "markdown",
   "id": "e5ad6663",
   "metadata": {},
   "source": [
    "### Q6. Median value of Screen\n",
    "\n",
    "1. Find the median value of Screen column in the dataset.\n",
    "2. Next, calculate the most frequent value of the same Screen column.\n",
    "3. Use fillna method tofill the missing values in Screen column with the most frequent value from the previous step.\n",
    "4. Now, calculate the median value of Screen once again.\n",
    "\n",
    "Has it changed?\n",
    "\n",
    "Hint: refer to existing mode and median functions to complete the task."
   ]
  },
  {
   "cell_type": "code",
   "execution_count": 90,
   "id": "ea3e2d6e",
   "metadata": {},
   "outputs": [
    {
     "name": "stdout",
     "output_type": "stream",
     "text": [
      "15.6\n"
     ]
    }
   ],
   "source": [
    "# 1. Find the median value of Screen column in the dataset.\n",
    "\n",
    "df_laptops_screen_median_before = df_laptops['Screen'].median()\n",
    "print(df_laptops_screen_median_before)"
   ]
  },
  {
   "cell_type": "markdown",
   "id": "5732d32e",
   "metadata": {},
   "source": [
    "##### Q6.1 - Answer: 15.6"
   ]
  },
  {
   "cell_type": "code",
   "execution_count": 93,
   "id": "02c9459c",
   "metadata": {},
   "outputs": [
    {
     "name": "stdout",
     "output_type": "stream",
     "text": [
      "15.6\n"
     ]
    }
   ],
   "source": [
    "# 2. Next, calculate the most frequent value of the same Screen column.\n",
    "\n",
    "df_laptops_screen_mode = df_laptops['Screen'].mode()[0]\n",
    "print(df_laptops_screen_mode)"
   ]
  },
  {
   "cell_type": "markdown",
   "id": "9277b999",
   "metadata": {},
   "source": [
    "##### Q6.2 - Answer: 15.6"
   ]
  },
  {
   "cell_type": "code",
   "execution_count": 99,
   "id": "893cb0dd",
   "metadata": {},
   "outputs": [],
   "source": [
    "# 3. Use fillna method tofill the missing values in Screen column with the most frequent value from the previous step.\n",
    "\n",
    "df_laptops_screen_fill_mode = df_laptops['Screen'].fillna(df_laptops_screen_mode)\n",
    "\n",
    "# Alternative, permanent change:\n",
    "# df_laptops['Screen'] = df_laptops['Screen'].fillna(df_laptops_screen_mode, inplace = True)"
   ]
  },
  {
   "cell_type": "code",
   "execution_count": 100,
   "id": "5073ec24",
   "metadata": {},
   "outputs": [
    {
     "name": "stdout",
     "output_type": "stream",
     "text": [
      "15.6\n"
     ]
    }
   ],
   "source": [
    "# 4. Now, calculate the median value of Screen once again.\n",
    "\n",
    "df_laptops_screen_median_after = df_laptops_screen_fill_mode.median()\n",
    "print(df_laptops_screen_median_after)\n",
    "\n",
    "# Alternative, permanent change:\n",
    "# df_laptops_screen_median_after = df_laptops['Screen'].median()"
   ]
  },
  {
   "cell_type": "markdown",
   "id": "b699fd1a",
   "metadata": {},
   "source": [
    "##### Q6.4 - Answer: 15.6"
   ]
  },
  {
   "cell_type": "markdown",
   "id": "6825efb1",
   "metadata": {},
   "source": [
    "#### Q6 - Answer: No"
   ]
  },
  {
   "cell_type": "markdown",
   "id": "c5df0cb8",
   "metadata": {},
   "source": [
    "### Q7. Sum of weights\n",
    "\n",
    "1. Select all the \"Innjoo\" laptops from the dataset.\n",
    "2. Select only columns RAM, Storage, Screen.\n",
    "3. Get the underlying NumPy array. Let's call it X.\n",
    "4. Compute matrix-matrix multiplication between the transpose of X and X. To get the transpose, use X.T. Let's call the result XTX.\n",
    "5. Compute the inverse of XTX.\n",
    "6. Create an array y with values [1100, 1300, 800, 900, 1000, 1100].\n",
    "7. Multiply the inverse of XTX with the transpose of X, and then multiply the result by y. Call the result w.\n",
    "8. What's the sum of all the elements of the result?\n",
    "\n",
    "Note: You just implemented linear regression. We'll talk about it in the next lesson."
   ]
  },
  {
   "cell_type": "code",
   "execution_count": 107,
   "id": "aa89b71c",
   "metadata": {},
   "outputs": [
    {
     "name": "stdout",
     "output_type": "stream",
     "text": [
      "                                                 Laptop Status   Brand Model  \\\n",
      "1478  InnJoo Voom Excellence Intel Celeron N4020/8GB...    New  Innjoo  Voom   \n",
      "1479  InnJoo Voom Excellence Pro Intel Celeron N4020...    New  Innjoo  Voom   \n",
      "1480  Innjoo Voom Intel Celeron N3350/4GB/64GB eMMC/...    New  Innjoo  Voom   \n",
      "1481  Innjoo Voom Laptop Max Intel Celeron N3350/6GB...    New  Innjoo  Voom   \n",
      "1482  Innjoo Voom Laptop Pro Intel Celeron N3350/6GB...    New  Innjoo  Voom   \n",
      "1483  Innjoo Voom Pro Intel Celeron N3350/6GB/128GB ...    New  Innjoo  Voom   \n",
      "\n",
      "                CPU  RAM  Storage Storage type  GPU  Screen Touch  Final Price  \n",
      "1478  Intel Celeron    8      256          SSD  NaN    15.6    No       311.37  \n",
      "1479  Intel Celeron    8      512          SSD  NaN    15.6    No       392.55  \n",
      "1480  Intel Celeron    4       64         eMMC  NaN    14.1    No       251.40  \n",
      "1481  Intel Celeron    6       64         eMMC  NaN    14.1    No       383.61  \n",
      "1482  Intel Celeron    6      128          SSD  NaN    14.1    No       317.02  \n",
      "1483  Intel Celeron    6      128         eMMC  NaN    14.1    No       431.38  \n"
     ]
    }
   ],
   "source": [
    "# 1. Select all the \"Innjoo\" laptops from the dataset.\n",
    "\n",
    "df_laptops_innjoo = df_laptops.loc[df_laptops['Brand'] == 'Innjoo']\n",
    "print(df_laptops_innjoo)"
   ]
  },
  {
   "cell_type": "code",
   "execution_count": 106,
   "id": "185ebd5e",
   "metadata": {},
   "outputs": [
    {
     "name": "stdout",
     "output_type": "stream",
     "text": [
      "[[  8.  256.   15.6]\n",
      " [  8.  512.   15.6]\n",
      " [  4.   64.   14.1]\n",
      " [  6.   64.   14.1]\n",
      " [  6.  128.   14.1]\n",
      " [  6.  128.   14.1]]\n"
     ]
    }
   ],
   "source": [
    "# 2. Select only columns RAM, Storage, Screen.\n",
    "\n",
    "df_laptops_innjoo_sel_col = df_laptops_innjoo[['RAM', 'Storage', 'Screen']].values\n",
    "print(df_laptops_innjoo_sel_col)"
   ]
  },
  {
   "cell_type": "code",
   "execution_count": 108,
   "id": "c66a7bf8",
   "metadata": {},
   "outputs": [
    {
     "name": "stdout",
     "output_type": "stream",
     "text": [
      "[[  8.  256.   15.6]\n",
      " [  8.  512.   15.6]\n",
      " [  4.   64.   14.1]\n",
      " [  6.   64.   14.1]\n",
      " [  6.  128.   14.1]\n",
      " [  6.  128.   14.1]]\n"
     ]
    }
   ],
   "source": [
    "# 3. Get the underlying NumPy array. Let's call it X.\n",
    "\n",
    "X = df_laptops_innjoo_sel_col\n",
    "print(X)"
   ]
  },
  {
   "cell_type": "code",
   "execution_count": 119,
   "id": "ec18df81",
   "metadata": {},
   "outputs": [
    {
     "name": "stdout",
     "output_type": "stream",
     "text": [
      "[[2.52000e+02 8.32000e+03 5.59800e+02]\n",
      " [8.32000e+03 3.68640e+05 1.73952e+04]\n",
      " [5.59800e+02 1.73952e+04 1.28196e+03]]\n"
     ]
    }
   ],
   "source": [
    "#  4. Compute matrix-matrix multiplication between the transpose of X and X. To get the transpose, use X.T.\n",
    "# Let's call the result XTX.\n",
    "\n",
    "XTX = X.T @ X\n",
    "print(XTX)"
   ]
  },
  {
   "cell_type": "code",
   "execution_count": 120,
   "id": "0f65ea4d",
   "metadata": {},
   "outputs": [
    {
     "name": "stdout",
     "output_type": "stream",
     "text": [
      "[[ 2.78025381e-01 -1.51791334e-03 -1.00809855e-01]\n",
      " [-1.51791334e-03  1.58286725e-05  4.48052175e-04]\n",
      " [-1.00809855e-01  4.48052175e-04  3.87214888e-02]]\n"
     ]
    }
   ],
   "source": [
    "# 5. Compute the inverse of XTX.\n",
    "\n",
    "XTX_inverse = np.linalg.inv(XTX)\n",
    "print(XTX_inverse)"
   ]
  },
  {
   "cell_type": "code",
   "execution_count": 123,
   "id": "074dad3e",
   "metadata": {},
   "outputs": [],
   "source": [
    "# 6. Create an array y with values [1100, 1300, 800, 900, 1000, 1100].\n",
    "\n",
    "y = np.array([1100, 1300, 800, 900, 1000, 1100])"
   ]
  },
  {
   "cell_type": "code",
   "execution_count": 125,
   "id": "cc6dca58",
   "metadata": {},
   "outputs": [
    {
     "name": "stdout",
     "output_type": "stream",
     "text": [
      "[45.58076606  0.42783519 45.29127938]\n"
     ]
    }
   ],
   "source": [
    "# 7. Multiply the inverse of XTX with the transpose of X, and then multiply the result by y. Call the result w.\n",
    "\n",
    "w = XTX_inverse @ X.T @ y\n",
    "\n",
    "print(w)"
   ]
  },
  {
   "cell_type": "code",
   "execution_count": 145,
   "id": "1b7ba0ad",
   "metadata": {},
   "outputs": [
    {
     "name": "stdout",
     "output_type": "stream",
     "text": [
      "91.3\n"
     ]
    }
   ],
   "source": [
    "# 8. What's the sum of all the elements of the result?\n",
    "\n",
    "sum_w = np.sum(w).round(2)\n",
    "print(sum_w)"
   ]
  },
  {
   "cell_type": "markdown",
   "id": "f3d9c033",
   "metadata": {},
   "source": [
    "#### Q7 - Answer: 91.30"
   ]
  }
 ],
 "metadata": {
  "kernelspec": {
   "display_name": "Python 3 (ipykernel)",
   "language": "python",
   "name": "python3"
  },
  "language_info": {
   "codemirror_mode": {
    "name": "ipython",
    "version": 3
   },
   "file_extension": ".py",
   "mimetype": "text/x-python",
   "name": "python",
   "nbconvert_exporter": "python",
   "pygments_lexer": "ipython3",
   "version": "3.11.4"
  }
 },
 "nbformat": 4,
 "nbformat_minor": 5
}
