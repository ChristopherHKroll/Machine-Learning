{
 "cells": [
  {
   "cell_type": "markdown",
   "id": "56fc6124",
   "metadata": {},
   "source": [
    "## 3.15 Homework 3: Machine Learning for Classification"
   ]
  },
  {
   "cell_type": "code",
   "execution_count": 671,
   "id": "7a1ca8bb-b67a-40d3-91cb-138ff4766cd5",
   "metadata": {},
   "outputs": [],
   "source": [
    "# Import libraries\n",
    "import requests\n",
    "import pandas as pd\n",
    "import numpy as np\n",
    "import matplotlib.pyplot as plt\n",
    "import seaborn as sns\n",
    "\n",
    "from sklearn.model_selection import train_test_split\n",
    "from sklearn.metrics import mutual_info_score\n",
    "from sklearn.feature_extraction import DictVectorizer\n",
    "from sklearn.linear_model import Ridge\n",
    "from sklearn.linear_model import LogisticRegression\n",
    "\n",
    "from IPython.display import display # displaying certain variables on purpose\n",
    "\n",
    "# Disable scientific notation\n",
    "np.set_printoptions(suppress=True, precision=2)\n",
    "\n",
    "# Allow plotting of all subplots in a jupyter notebook\n",
    "%matplotlib inline"
   ]
  },
  {
   "cell_type": "markdown",
   "id": "88f5e413-ea29-4599-a6a2-d6244f054936",
   "metadata": {},
   "source": [
    "### Dataset\n",
    "\n",
    "In this homework, we will use the Bank Marketing dataset.\n",
    "Download it from https://archive.ics.uci.edu/static/public/222/bank+marketing.zip\n",
    "\n",
    "We need to take bank/bank-full.csv file from the downloaded zip-file.\n",
    "In this dataset our desired target for classification task will be y variable - has the client subscribed a term deposit or not.\n"
   ]
  },
  {
   "cell_type": "code",
   "execution_count": 674,
   "id": "3901e5ec-658c-4ee5-9556-b4d0a76c57b1",
   "metadata": {},
   "outputs": [],
   "source": [
    "# Download and read the dataset\n",
    "df_banks = pd.read_csv('bank-full.csv', delimiter=';')"
   ]
  },
  {
   "cell_type": "markdown",
   "id": "bc2c52e6-a1d7-44be-b8f1-e9aa8e32394f",
   "metadata": {},
   "source": [
    "### Features\n",
    "\n",
    "For the rest of the homework, you'll need to use only these columns:\n",
    "\n",
    "- age,\n",
    "- job,\n",
    "- marital,\n",
    "- education,\n",
    "- balance,\n",
    "- housing,\n",
    "- contact,\n",
    "- day,\n",
    "- month,\n",
    "- duration,\n",
    "- campaign,\n",
    "- pdays,\n",
    "- previous,\n",
    "- poutcome,\n",
    "- y"
   ]
  },
  {
   "cell_type": "markdown",
   "id": "d6e00031-fb27-40a9-a19d-b93d0ec1a0d2",
   "metadata": {},
   "source": [
    "### Data preparation\n",
    "- Select only the features from above.\n",
    "- Check if the missing values are presented in the features.\n"
   ]
  },
  {
   "cell_type": "code",
   "execution_count": 678,
   "id": "a3cbcd19-4ce9-48c7-ac0b-e6ad8d6fa2df",
   "metadata": {},
   "outputs": [
    {
     "data": {
      "text/plain": [
       "Index(['age', 'job', 'marital', 'education', 'default', 'balance', 'housing',\n",
       "       'loan', 'contact', 'day', 'month', 'duration', 'campaign', 'pdays',\n",
       "       'previous', 'poutcome', 'y'],\n",
       "      dtype='object')"
      ]
     },
     "execution_count": 678,
     "metadata": {},
     "output_type": "execute_result"
    }
   ],
   "source": [
    "# Check the column names\n",
    "df_banks.columns"
   ]
  },
  {
   "cell_type": "code",
   "execution_count": 680,
   "id": "5dac673b-3ed9-4d6b-90f9-60408383d8bc",
   "metadata": {},
   "outputs": [
    {
     "data": {
      "text/html": [
       "<div>\n",
       "<style scoped>\n",
       "    .dataframe tbody tr th:only-of-type {\n",
       "        vertical-align: middle;\n",
       "    }\n",
       "\n",
       "    .dataframe tbody tr th {\n",
       "        vertical-align: top;\n",
       "    }\n",
       "\n",
       "    .dataframe thead th {\n",
       "        text-align: right;\n",
       "    }\n",
       "</style>\n",
       "<table border=\"1\" class=\"dataframe\">\n",
       "  <thead>\n",
       "    <tr style=\"text-align: right;\">\n",
       "      <th></th>\n",
       "      <th>age</th>\n",
       "      <th>job</th>\n",
       "      <th>marital</th>\n",
       "      <th>education</th>\n",
       "      <th>balance</th>\n",
       "      <th>housing</th>\n",
       "      <th>contact</th>\n",
       "      <th>day</th>\n",
       "      <th>month</th>\n",
       "      <th>duration</th>\n",
       "      <th>campaign</th>\n",
       "      <th>pdays</th>\n",
       "      <th>previous</th>\n",
       "      <th>poutcome</th>\n",
       "      <th>y</th>\n",
       "    </tr>\n",
       "  </thead>\n",
       "  <tbody>\n",
       "    <tr>\n",
       "      <th>0</th>\n",
       "      <td>58</td>\n",
       "      <td>management</td>\n",
       "      <td>married</td>\n",
       "      <td>tertiary</td>\n",
       "      <td>2143</td>\n",
       "      <td>yes</td>\n",
       "      <td>unknown</td>\n",
       "      <td>5</td>\n",
       "      <td>may</td>\n",
       "      <td>261</td>\n",
       "      <td>1</td>\n",
       "      <td>-1</td>\n",
       "      <td>0</td>\n",
       "      <td>unknown</td>\n",
       "      <td>no</td>\n",
       "    </tr>\n",
       "    <tr>\n",
       "      <th>1</th>\n",
       "      <td>44</td>\n",
       "      <td>technician</td>\n",
       "      <td>single</td>\n",
       "      <td>secondary</td>\n",
       "      <td>29</td>\n",
       "      <td>yes</td>\n",
       "      <td>unknown</td>\n",
       "      <td>5</td>\n",
       "      <td>may</td>\n",
       "      <td>151</td>\n",
       "      <td>1</td>\n",
       "      <td>-1</td>\n",
       "      <td>0</td>\n",
       "      <td>unknown</td>\n",
       "      <td>no</td>\n",
       "    </tr>\n",
       "    <tr>\n",
       "      <th>2</th>\n",
       "      <td>33</td>\n",
       "      <td>entrepreneur</td>\n",
       "      <td>married</td>\n",
       "      <td>secondary</td>\n",
       "      <td>2</td>\n",
       "      <td>yes</td>\n",
       "      <td>unknown</td>\n",
       "      <td>5</td>\n",
       "      <td>may</td>\n",
       "      <td>76</td>\n",
       "      <td>1</td>\n",
       "      <td>-1</td>\n",
       "      <td>0</td>\n",
       "      <td>unknown</td>\n",
       "      <td>no</td>\n",
       "    </tr>\n",
       "    <tr>\n",
       "      <th>3</th>\n",
       "      <td>47</td>\n",
       "      <td>blue-collar</td>\n",
       "      <td>married</td>\n",
       "      <td>unknown</td>\n",
       "      <td>1506</td>\n",
       "      <td>yes</td>\n",
       "      <td>unknown</td>\n",
       "      <td>5</td>\n",
       "      <td>may</td>\n",
       "      <td>92</td>\n",
       "      <td>1</td>\n",
       "      <td>-1</td>\n",
       "      <td>0</td>\n",
       "      <td>unknown</td>\n",
       "      <td>no</td>\n",
       "    </tr>\n",
       "    <tr>\n",
       "      <th>4</th>\n",
       "      <td>33</td>\n",
       "      <td>unknown</td>\n",
       "      <td>single</td>\n",
       "      <td>unknown</td>\n",
       "      <td>1</td>\n",
       "      <td>no</td>\n",
       "      <td>unknown</td>\n",
       "      <td>5</td>\n",
       "      <td>may</td>\n",
       "      <td>198</td>\n",
       "      <td>1</td>\n",
       "      <td>-1</td>\n",
       "      <td>0</td>\n",
       "      <td>unknown</td>\n",
       "      <td>no</td>\n",
       "    </tr>\n",
       "    <tr>\n",
       "      <th>...</th>\n",
       "      <td>...</td>\n",
       "      <td>...</td>\n",
       "      <td>...</td>\n",
       "      <td>...</td>\n",
       "      <td>...</td>\n",
       "      <td>...</td>\n",
       "      <td>...</td>\n",
       "      <td>...</td>\n",
       "      <td>...</td>\n",
       "      <td>...</td>\n",
       "      <td>...</td>\n",
       "      <td>...</td>\n",
       "      <td>...</td>\n",
       "      <td>...</td>\n",
       "      <td>...</td>\n",
       "    </tr>\n",
       "    <tr>\n",
       "      <th>45206</th>\n",
       "      <td>51</td>\n",
       "      <td>technician</td>\n",
       "      <td>married</td>\n",
       "      <td>tertiary</td>\n",
       "      <td>825</td>\n",
       "      <td>no</td>\n",
       "      <td>cellular</td>\n",
       "      <td>17</td>\n",
       "      <td>nov</td>\n",
       "      <td>977</td>\n",
       "      <td>3</td>\n",
       "      <td>-1</td>\n",
       "      <td>0</td>\n",
       "      <td>unknown</td>\n",
       "      <td>yes</td>\n",
       "    </tr>\n",
       "    <tr>\n",
       "      <th>45207</th>\n",
       "      <td>71</td>\n",
       "      <td>retired</td>\n",
       "      <td>divorced</td>\n",
       "      <td>primary</td>\n",
       "      <td>1729</td>\n",
       "      <td>no</td>\n",
       "      <td>cellular</td>\n",
       "      <td>17</td>\n",
       "      <td>nov</td>\n",
       "      <td>456</td>\n",
       "      <td>2</td>\n",
       "      <td>-1</td>\n",
       "      <td>0</td>\n",
       "      <td>unknown</td>\n",
       "      <td>yes</td>\n",
       "    </tr>\n",
       "    <tr>\n",
       "      <th>45208</th>\n",
       "      <td>72</td>\n",
       "      <td>retired</td>\n",
       "      <td>married</td>\n",
       "      <td>secondary</td>\n",
       "      <td>5715</td>\n",
       "      <td>no</td>\n",
       "      <td>cellular</td>\n",
       "      <td>17</td>\n",
       "      <td>nov</td>\n",
       "      <td>1127</td>\n",
       "      <td>5</td>\n",
       "      <td>184</td>\n",
       "      <td>3</td>\n",
       "      <td>success</td>\n",
       "      <td>yes</td>\n",
       "    </tr>\n",
       "    <tr>\n",
       "      <th>45209</th>\n",
       "      <td>57</td>\n",
       "      <td>blue-collar</td>\n",
       "      <td>married</td>\n",
       "      <td>secondary</td>\n",
       "      <td>668</td>\n",
       "      <td>no</td>\n",
       "      <td>telephone</td>\n",
       "      <td>17</td>\n",
       "      <td>nov</td>\n",
       "      <td>508</td>\n",
       "      <td>4</td>\n",
       "      <td>-1</td>\n",
       "      <td>0</td>\n",
       "      <td>unknown</td>\n",
       "      <td>no</td>\n",
       "    </tr>\n",
       "    <tr>\n",
       "      <th>45210</th>\n",
       "      <td>37</td>\n",
       "      <td>entrepreneur</td>\n",
       "      <td>married</td>\n",
       "      <td>secondary</td>\n",
       "      <td>2971</td>\n",
       "      <td>no</td>\n",
       "      <td>cellular</td>\n",
       "      <td>17</td>\n",
       "      <td>nov</td>\n",
       "      <td>361</td>\n",
       "      <td>2</td>\n",
       "      <td>188</td>\n",
       "      <td>11</td>\n",
       "      <td>other</td>\n",
       "      <td>no</td>\n",
       "    </tr>\n",
       "  </tbody>\n",
       "</table>\n",
       "<p>45211 rows × 15 columns</p>\n",
       "</div>"
      ],
      "text/plain": [
       "       age           job   marital  education  balance housing    contact  \\\n",
       "0       58    management   married   tertiary     2143     yes    unknown   \n",
       "1       44    technician    single  secondary       29     yes    unknown   \n",
       "2       33  entrepreneur   married  secondary        2     yes    unknown   \n",
       "3       47   blue-collar   married    unknown     1506     yes    unknown   \n",
       "4       33       unknown    single    unknown        1      no    unknown   \n",
       "...    ...           ...       ...        ...      ...     ...        ...   \n",
       "45206   51    technician   married   tertiary      825      no   cellular   \n",
       "45207   71       retired  divorced    primary     1729      no   cellular   \n",
       "45208   72       retired   married  secondary     5715      no   cellular   \n",
       "45209   57   blue-collar   married  secondary      668      no  telephone   \n",
       "45210   37  entrepreneur   married  secondary     2971      no   cellular   \n",
       "\n",
       "       day month  duration  campaign  pdays  previous poutcome    y  \n",
       "0        5   may       261         1     -1         0  unknown   no  \n",
       "1        5   may       151         1     -1         0  unknown   no  \n",
       "2        5   may        76         1     -1         0  unknown   no  \n",
       "3        5   may        92         1     -1         0  unknown   no  \n",
       "4        5   may       198         1     -1         0  unknown   no  \n",
       "...    ...   ...       ...       ...    ...       ...      ...  ...  \n",
       "45206   17   nov       977         3     -1         0  unknown  yes  \n",
       "45207   17   nov       456         2     -1         0  unknown  yes  \n",
       "45208   17   nov      1127         5    184         3  success  yes  \n",
       "45209   17   nov       508         4     -1         0  unknown   no  \n",
       "45210   17   nov       361         2    188        11    other   no  \n",
       "\n",
       "[45211 rows x 15 columns]"
      ]
     },
     "execution_count": 680,
     "metadata": {},
     "output_type": "execute_result"
    }
   ],
   "source": [
    "# Select only the features from above\n",
    "df_banks_features = df_banks[['age', 'job', 'marital', 'education', 'balance', 'housing', 'contact', 'day', 'month', 'duration', 'campaign', 'pdays', 'previous', 'poutcome', 'y']]\n",
    "df_banks_features"
   ]
  },
  {
   "cell_type": "code",
   "execution_count": 682,
   "id": "8cf3ceaa-d288-4e8e-9962-c61a880196d6",
   "metadata": {},
   "outputs": [
    {
     "data": {
      "text/plain": [
       "age          0\n",
       "job          0\n",
       "marital      0\n",
       "education    0\n",
       "balance      0\n",
       "housing      0\n",
       "contact      0\n",
       "day          0\n",
       "month        0\n",
       "duration     0\n",
       "campaign     0\n",
       "pdays        0\n",
       "previous     0\n",
       "poutcome     0\n",
       "y            0\n",
       "dtype: int64"
      ]
     },
     "execution_count": 682,
     "metadata": {},
     "output_type": "execute_result"
    }
   ],
   "source": [
    "# Check if missing values are presented in the features\n",
    "df_banks_features.isnull().sum()"
   ]
  },
  {
   "cell_type": "code",
   "execution_count": 684,
   "id": "6d3cbcad-0e7c-44ee-9bb6-1a1229fdf4dd",
   "metadata": {},
   "outputs": [],
   "source": [
    "# Answer: No missing values present"
   ]
  },
  {
   "cell_type": "markdown",
   "id": "88c4bee3-d483-4811-a9de-d9368715d4d7",
   "metadata": {},
   "source": [
    "### Question 1\n",
    "\n",
    "What is the most frequent observation (mode) for the column education?\n",
    "\n",
    "- unknown\n",
    "- primary\n",
    "- secondary\n",
    "- tertiary"
   ]
  },
  {
   "cell_type": "code",
   "execution_count": 687,
   "id": "4a4cfd87-e8b7-483d-bff1-86e06dc7a224",
   "metadata": {},
   "outputs": [
    {
     "data": {
      "text/plain": [
       "0    secondary\n",
       "Name: education, dtype: object"
      ]
     },
     "execution_count": 687,
     "metadata": {},
     "output_type": "execute_result"
    }
   ],
   "source": [
    "education_mode = df_banks_features['education'].mode()\n",
    "education_mode"
   ]
  },
  {
   "cell_type": "markdown",
   "id": "527479ef-3e03-4479-8a8f-f522dd40e5ac",
   "metadata": {},
   "source": [
    "#### Question 1 - Answer: 'secondary'"
   ]
  },
  {
   "cell_type": "markdown",
   "id": "3a8bcbe8-915e-4b61-994b-9d184d0128cf",
   "metadata": {},
   "source": [
    "### Question 2\n",
    "\n",
    "Create the correlation matrix for the numerical features of your dataset. In a correlation matrix, you compute the correlation coefficient between every pair of features.\n",
    "\n",
    "What are the two features that have the biggest correlation?\n",
    "\n",
    "- age and balance\n",
    "- day and campaign\n",
    "- day and pdays\n",
    "- pdays and previous"
   ]
  },
  {
   "cell_type": "code",
   "execution_count": 691,
   "id": "0053114d-92c3-423a-a5d0-263bb7bc2a85",
   "metadata": {},
   "outputs": [
    {
     "data": {
      "text/plain": [
       "age           int64\n",
       "job          object\n",
       "marital      object\n",
       "education    object\n",
       "balance       int64\n",
       "housing      object\n",
       "contact      object\n",
       "day           int64\n",
       "month        object\n",
       "duration      int64\n",
       "campaign      int64\n",
       "pdays         int64\n",
       "previous      int64\n",
       "poutcome     object\n",
       "y            object\n",
       "dtype: object"
      ]
     },
     "execution_count": 691,
     "metadata": {},
     "output_type": "execute_result"
    }
   ],
   "source": [
    "df_banks_features.dtypes"
   ]
  },
  {
   "cell_type": "code",
   "execution_count": 693,
   "id": "521ffcc0-2067-466a-8fe1-26c15ab9baf2",
   "metadata": {},
   "outputs": [
    {
     "name": "stdout",
     "output_type": "stream",
     "text": [
      "Categorical: ['job', 'marital', 'education', 'housing', 'contact', 'month', 'poutcome', 'y']\n",
      "Numerical: ['age', 'balance', 'day', 'duration', 'campaign', 'pdays', 'previous']\n"
     ]
    }
   ],
   "source": [
    "# List of categorial variables\n",
    "categorical = df_banks_features.select_dtypes(include='object').columns.tolist()\n",
    "\n",
    "# List of numerical variables\n",
    "numerical = df_banks_features.select_dtypes(include=['int64', 'float64']).columns.tolist()\n",
    "\n",
    "print(\"Categorical:\", categorical)\n",
    "print(\"Numerical:\", numerical)"
   ]
  },
  {
   "cell_type": "code",
   "execution_count": 695,
   "id": "ffff05ea-76e6-457f-a472-87e7b6f2bc5d",
   "metadata": {},
   "outputs": [
    {
     "name": "stdout",
     "output_type": "stream",
     "text": [
      "Categorical: ['job', 'marital', 'education', 'housing', 'contact', 'month', 'poutcome']\n",
      "Numerical: ['age', 'balance', 'day', 'duration', 'campaign', 'pdays', 'previous']\n"
     ]
    }
   ],
   "source": [
    "categorical = ['job', 'marital', 'education', 'housing', 'contact', 'month', 'poutcome']\n",
    "numerical = ['age', 'balance', 'day', 'duration', 'campaign', 'pdays', 'previous']\n",
    "print(\"Categorical:\", categorical)\n",
    "print(\"Numerical:\", numerical)"
   ]
  },
  {
   "cell_type": "code",
   "execution_count": 697,
   "id": "c60e5e90-202d-4d70-9fd1-828d5e4b62de",
   "metadata": {},
   "outputs": [
    {
     "name": "stdout",
     "output_type": "stream",
     "text": [
      "Correlation between age and balance: 0.09778273937134752\n",
      "Correlation between day and campaign: 0.16249021632619282\n",
      "Correlation between day and pdays: -0.09304407377294048\n",
      "Correlation between pdays and previous: 0.45481963548050097\n"
     ]
    }
   ],
   "source": [
    "# Calculate correlations for certain feature pairs\n",
    "corr_age_balance = df_banks_features['age'].corr(df_banks_features['balance'])\n",
    "corr_day_campaign = df_banks_features['day'].corr(df_banks_features['campaign'])\n",
    "corr_day_pdays = df_banks_features['day'].corr(df_banks_features['pdays'])\n",
    "corr_pdays_previous = df_banks_features['pdays'].corr(df_banks_features['previous'])\n",
    "\n",
    "# Show correlation matrices\n",
    "print(\"Correlation between age and balance:\", corr_age_balance)\n",
    "print(\"Correlation between day and campaign:\", corr_day_campaign)\n",
    "print(\"Correlation between day and pdays:\", corr_day_pdays)\n",
    "print(\"Correlation between pdays and previous:\", corr_pdays_previous)"
   ]
  },
  {
   "cell_type": "code",
   "execution_count": 699,
   "id": "a39f1808-7bce-4ad6-b74d-cf3f1586d73c",
   "metadata": {},
   "outputs": [
    {
     "data": {
      "text/plain": [
       "('pdays and previous', 0.45481963548050097)"
      ]
     },
     "execution_count": 699,
     "metadata": {},
     "output_type": "execute_result"
    }
   ],
   "source": [
    "# Creating a list of tuples with feature pairs and their correlation values\n",
    "correlations = [\n",
    "    (\"age and balance\", corr_age_balance),\n",
    "    (\"day and campaign\", corr_day_campaign),\n",
    "    (\"day and pdays\", corr_day_pdays),\n",
    "    (\"pdays and previous\", corr_pdays_previous)\n",
    "]\n",
    "\n",
    "# Sorting the list by the absolute values of the correlations in descending order\n",
    "sorted_correlations = sorted(correlations, key=lambda x: abs(x[1]), reverse=True)\n",
    "\n",
    "# Displaying the sorted list\n",
    "sorted_correlations\n",
    "\n",
    "# Display the two features with the highest correlation\n",
    "sorted_correlations[0]"
   ]
  },
  {
   "cell_type": "code",
   "execution_count": 701,
   "id": "96dd47b5-4df7-4ddd-b903-ef37ba53e340",
   "metadata": {},
   "outputs": [
    {
     "name": "stdout",
     "output_type": "stream",
     "text": [
      "previous  pdays    0.45482\n",
      "dtype: float64\n"
     ]
    }
   ],
   "source": [
    "# Compute the pairwise correlation between the features\n",
    "correlation_matrix = df_banks_features[['age', 'balance', 'day', 'campaign', 'pdays', 'previous']].corr()\n",
    "\n",
    "# Unstack the correlation matrix to a list of correlation pairs and sort by absolute values\n",
    "correlation_pairs = correlation_matrix.unstack().abs().sort_values(kind=\"quicksort\", ascending=False)\n",
    "\n",
    "# Remove correlations of variables with themselves (which are always 1)\n",
    "correlation_pairs = correlation_pairs[correlation_pairs < 1]\n",
    "\n",
    "# Display the two features with the highest correlation\n",
    "print(correlation_pairs.head(1))"
   ]
  },
  {
   "cell_type": "markdown",
   "id": "d1a52783-5d44-484a-bb99-1add40541a6b",
   "metadata": {},
   "source": [
    "#### Question 2 - Answer: 'pdays` and `previous'"
   ]
  },
  {
   "cell_type": "markdown",
   "id": "9b8e23b5-c3ae-4a8e-8c7e-68874daa474c",
   "metadata": {},
   "source": [
    "### Target encoding\n",
    "\n",
    "- Now we want to encode the y variable.\n",
    "- Let's replace the values yes/no with 1/0."
   ]
  },
  {
   "cell_type": "code",
   "execution_count": 705,
   "id": "97856fe9-8095-4f4a-b74e-c04b4e242844",
   "metadata": {},
   "outputs": [
    {
     "data": {
      "text/plain": [
       "array(['no', 'yes'], dtype=object)"
      ]
     },
     "execution_count": 705,
     "metadata": {},
     "output_type": "execute_result"
    }
   ],
   "source": [
    "df_banks_features['y'].unique()"
   ]
  },
  {
   "cell_type": "code",
   "execution_count": 707,
   "id": "d922be6c-5158-4adc-b280-8e58623fd302",
   "metadata": {},
   "outputs": [
    {
     "data": {
      "text/plain": [
       "0         no\n",
       "1         no\n",
       "2         no\n",
       "3         no\n",
       "4         no\n",
       "        ... \n",
       "45206    yes\n",
       "45207    yes\n",
       "45208    yes\n",
       "45209     no\n",
       "45210     no\n",
       "Name: y, Length: 45211, dtype: object"
      ]
     },
     "execution_count": 707,
     "metadata": {},
     "output_type": "execute_result"
    }
   ],
   "source": [
    "df_banks_features['y']"
   ]
  },
  {
   "cell_type": "code",
   "execution_count": 709,
   "id": "15a63e03-f7aa-45b1-8864-891ab58a539a",
   "metadata": {},
   "outputs": [
    {
     "data": {
      "text/plain": [
       "0        0\n",
       "1        0\n",
       "2        0\n",
       "3        0\n",
       "4        0\n",
       "        ..\n",
       "45206    1\n",
       "45207    1\n",
       "45208    1\n",
       "45209    0\n",
       "45210    0\n",
       "Name: y, Length: 45211, dtype: object"
      ]
     },
     "execution_count": 709,
     "metadata": {},
     "output_type": "execute_result"
    }
   ],
   "source": [
    "# Explicitly replace the values yes/no with 1/0.\n",
    "df_banks_features.loc[:, 'y'] = (df_banks_features['y'] == 'yes').astype(int)\n",
    "df_banks_features.loc[:, 'y']"
   ]
  },
  {
   "cell_type": "code",
   "execution_count": 711,
   "id": "9dfa9a3c-84b9-4a3d-8647-85ae3c91b790",
   "metadata": {},
   "outputs": [
    {
     "data": {
      "text/plain": [
       "array([0, 1], dtype=object)"
      ]
     },
     "execution_count": 711,
     "metadata": {},
     "output_type": "execute_result"
    }
   ],
   "source": [
    "df_banks_features['y'].unique()"
   ]
  },
  {
   "cell_type": "markdown",
   "id": "a1aebc92-30f4-4ea5-92f2-c542f9741a53",
   "metadata": {},
   "source": [
    "### Split the data\n",
    "- Split your data in train/val/test sets with 60%/20%/20% distribution.\n",
    "- Use Scikit-Learn for that (the train_test_split function) and set the seed to 42.\n",
    "- Make sure that the target value y is not in your dataframe."
   ]
  },
  {
   "cell_type": "code",
   "execution_count": 714,
   "id": "d80cc1d9-ab2d-4c1d-bd3c-484672d1ea5b",
   "metadata": {},
   "outputs": [],
   "source": [
    "# Splitting the dataset into two parts 80% (df_train_full) + 20% (df_test)\n",
    "df_train_full, df_test = train_test_split(df_banks_features, test_size=0.2, random_state=42)"
   ]
  },
  {
   "cell_type": "code",
   "execution_count": 716,
   "id": "c0dabba5-8907-4430-b0d7-69eee9586c03",
   "metadata": {},
   "outputs": [
    {
     "data": {
      "text/plain": [
       "(36168, 9043)"
      ]
     },
     "execution_count": 716,
     "metadata": {},
     "output_type": "execute_result"
    }
   ],
   "source": [
    "len(df_train_full), len(df_test)"
   ]
  },
  {
   "cell_type": "code",
   "execution_count": 718,
   "id": "856e997e-9ee4-460a-af2e-8261675027d1",
   "metadata": {},
   "outputs": [],
   "source": [
    "# Splitting the df_train_full into training and validation 60% (train) + 20% (val) (20% of 80% = 25%)\n",
    "df_train, df_val = train_test_split(df_train_full, test_size=0.25, random_state=42)"
   ]
  },
  {
   "cell_type": "code",
   "execution_count": 720,
   "id": "beb6f940-90f9-42b8-a353-803a0d609194",
   "metadata": {},
   "outputs": [
    {
     "data": {
      "text/plain": [
       "(27126, 9042, 9043)"
      ]
     },
     "execution_count": 720,
     "metadata": {},
     "output_type": "execute_result"
    }
   ],
   "source": [
    "len(df_train), len(df_val), len(df_test)"
   ]
  },
  {
   "cell_type": "code",
   "execution_count": 722,
   "id": "4021cc20-839a-48c3-b023-13bf52ff82b7",
   "metadata": {},
   "outputs": [
    {
     "data": {
      "text/plain": [
       "(       age            job  marital  education  balance housing   contact  day  \\\n",
       " 20326   32     technician   single   tertiary     1100     yes  cellular   11   \n",
       " 24301   38   entrepreneur  married  secondary        0     yes  cellular   17   \n",
       " 38618   49    blue-collar  married  secondary     3309     yes  cellular   15   \n",
       " 18909   37      housemaid  married    primary     2410      no  cellular    4   \n",
       " 23081   31  self-employed  married   tertiary     3220      no  cellular   26   \n",
       " \n",
       "       month  duration  campaign  pdays  previous poutcome  y  \n",
       " 20326   aug        67         1     -1         0  unknown  0  \n",
       " 24301   nov       258         1     -1         0  unknown  0  \n",
       " 38618   may       349         2     -1         0  unknown  0  \n",
       " 18909   aug       315         1     -1         0  unknown  0  \n",
       " 23081   aug        74         4     -1         0  unknown  0  ,\n",
       "        age         job   marital  education  balance housing    contact  day  \\\n",
       " 11019   38    services  divorced  secondary      -10     yes    unknown   17   \n",
       " 3403    42  management    single   tertiary     1146     yes    unknown   15   \n",
       " 12260   43  management   married   tertiary      149     yes    unknown   23   \n",
       " 45110   50  management   married   tertiary     8205     yes  telephone   25   \n",
       " 39549   43  management   married   tertiary       79      no   cellular   26   \n",
       " \n",
       "       month  duration  campaign  pdays  previous poutcome  y  \n",
       " 11019   jun        61         2     -1         0  unknown  0  \n",
       " 3403    may        98         2     -1         0  unknown  0  \n",
       " 12260   jun       662         2     -1         0  unknown  1  \n",
       " 45110   oct       293         3    508         1    other  0  \n",
       " 39549   may       640         1     -1         0  unknown  1  ,\n",
       "        age          job  marital  education  balance housing   contact  day  \\\n",
       " 3776    40  blue-collar  married  secondary      580     yes   unknown   16   \n",
       " 9928    47     services   single  secondary     3644      no   unknown    9   \n",
       " 33409   25      student   single   tertiary      538     yes  cellular   20   \n",
       " 31885   42   management  married   tertiary     1773      no  cellular    9   \n",
       " 15738   56   management  married   tertiary      217      no  cellular   21   \n",
       " \n",
       "       month  duration  campaign  pdays  previous poutcome  y  \n",
       " 3776    may       192         1     -1         0  unknown  0  \n",
       " 9928    jun        83         2     -1         0  unknown  0  \n",
       " 33409   apr       226         1     -1         0  unknown  0  \n",
       " 31885   apr       311         1    336         1  failure  0  \n",
       " 15738   jul       121         2     -1         0  unknown  0  )"
      ]
     },
     "execution_count": 722,
     "metadata": {},
     "output_type": "execute_result"
    }
   ],
   "source": [
    "df_train.head(), df_val.head(), df_test.head()"
   ]
  },
  {
   "cell_type": "code",
   "execution_count": 724,
   "id": "06fcd438-0c6c-4b3b-af56-d5dfd893abcd",
   "metadata": {},
   "outputs": [
    {
     "data": {
      "text/plain": [
       "(   age            job  marital  education  balance housing   contact  day  \\\n",
       " 0   32     technician   single   tertiary     1100     yes  cellular   11   \n",
       " 1   38   entrepreneur  married  secondary        0     yes  cellular   17   \n",
       " 2   49    blue-collar  married  secondary     3309     yes  cellular   15   \n",
       " 3   37      housemaid  married    primary     2410      no  cellular    4   \n",
       " 4   31  self-employed  married   tertiary     3220      no  cellular   26   \n",
       " \n",
       "   month  duration  campaign  pdays  previous poutcome  y  \n",
       " 0   aug        67         1     -1         0  unknown  0  \n",
       " 1   nov       258         1     -1         0  unknown  0  \n",
       " 2   may       349         2     -1         0  unknown  0  \n",
       " 3   aug       315         1     -1         0  unknown  0  \n",
       " 4   aug        74         4     -1         0  unknown  0  ,\n",
       "    age         job   marital  education  balance housing    contact  day  \\\n",
       " 0   38    services  divorced  secondary      -10     yes    unknown   17   \n",
       " 1   42  management    single   tertiary     1146     yes    unknown   15   \n",
       " 2   43  management   married   tertiary      149     yes    unknown   23   \n",
       " 3   50  management   married   tertiary     8205     yes  telephone   25   \n",
       " 4   43  management   married   tertiary       79      no   cellular   26   \n",
       " \n",
       "   month  duration  campaign  pdays  previous poutcome  y  \n",
       " 0   jun        61         2     -1         0  unknown  0  \n",
       " 1   may        98         2     -1         0  unknown  0  \n",
       " 2   jun       662         2     -1         0  unknown  1  \n",
       " 3   oct       293         3    508         1    other  0  \n",
       " 4   may       640         1     -1         0  unknown  1  ,\n",
       "    age          job  marital  education  balance housing   contact  day month  \\\n",
       " 0   40  blue-collar  married  secondary      580     yes   unknown   16   may   \n",
       " 1   47     services   single  secondary     3644      no   unknown    9   jun   \n",
       " 2   25      student   single   tertiary      538     yes  cellular   20   apr   \n",
       " 3   42   management  married   tertiary     1773      no  cellular    9   apr   \n",
       " 4   56   management  married   tertiary      217      no  cellular   21   jul   \n",
       " \n",
       "    duration  campaign  pdays  previous poutcome  y  \n",
       " 0       192         1     -1         0  unknown  0  \n",
       " 1        83         2     -1         0  unknown  0  \n",
       " 2       226         1     -1         0  unknown  0  \n",
       " 3       311         1    336         1  failure  0  \n",
       " 4       121         2     -1         0  unknown  0  )"
      ]
     },
     "execution_count": 724,
     "metadata": {},
     "output_type": "execute_result"
    }
   ],
   "source": [
    "# Reset index of shuffled datasets\n",
    "df_train = df_train.reset_index(drop=True)\n",
    "df_val = df_val.reset_index(drop=True)\n",
    "df_test = df_test.reset_index(drop=True)\n",
    "df_train.head(), df_val.head(), df_test.head()"
   ]
  },
  {
   "cell_type": "code",
   "execution_count": 726,
   "id": "273338e2-be03-40c1-a200-137840479024",
   "metadata": {},
   "outputs": [
    {
     "data": {
      "text/plain": [
       "(array([0, 0, 0, ..., 0, 0, 0], dtype=object),\n",
       " array([0, 0, 1, ..., 0, 0, 1], dtype=object),\n",
       " array([0, 0, 0, ..., 0, 0, 0], dtype=object))"
      ]
     },
     "execution_count": 726,
     "metadata": {},
     "output_type": "execute_result"
    }
   ],
   "source": [
    "# Extracting the target variables y from the dataframes\n",
    "y_train = df_train.y.values\n",
    "y_val = df_val.y.values\n",
    "y_test = df_test.y.values\n",
    "\n",
    "y_test, y_val, y_test"
   ]
  },
  {
   "cell_type": "code",
   "execution_count": 728,
   "id": "7107d204-9f4d-40be-af78-6e117074b7a4",
   "metadata": {},
   "outputs": [],
   "source": [
    "# Deleting target variables y from dataframes (train and val, not test!)\n",
    "del df_train['y']\n",
    "del df_val['y']"
   ]
  },
  {
   "cell_type": "code",
   "execution_count": 730,
   "id": "904a6824-8e08-4934-8bb6-b5e0f22f675d",
   "metadata": {},
   "outputs": [
    {
     "data": {
      "text/plain": [
       "(   age            job  marital  education  balance housing   contact  day  \\\n",
       " 0   32     technician   single   tertiary     1100     yes  cellular   11   \n",
       " 1   38   entrepreneur  married  secondary        0     yes  cellular   17   \n",
       " 2   49    blue-collar  married  secondary     3309     yes  cellular   15   \n",
       " 3   37      housemaid  married    primary     2410      no  cellular    4   \n",
       " 4   31  self-employed  married   tertiary     3220      no  cellular   26   \n",
       " \n",
       "   month  duration  campaign  pdays  previous poutcome  \n",
       " 0   aug        67         1     -1         0  unknown  \n",
       " 1   nov       258         1     -1         0  unknown  \n",
       " 2   may       349         2     -1         0  unknown  \n",
       " 3   aug       315         1     -1         0  unknown  \n",
       " 4   aug        74         4     -1         0  unknown  ,\n",
       "    age         job   marital  education  balance housing    contact  day  \\\n",
       " 0   38    services  divorced  secondary      -10     yes    unknown   17   \n",
       " 1   42  management    single   tertiary     1146     yes    unknown   15   \n",
       " 2   43  management   married   tertiary      149     yes    unknown   23   \n",
       " 3   50  management   married   tertiary     8205     yes  telephone   25   \n",
       " 4   43  management   married   tertiary       79      no   cellular   26   \n",
       " \n",
       "   month  duration  campaign  pdays  previous poutcome  \n",
       " 0   jun        61         2     -1         0  unknown  \n",
       " 1   may        98         2     -1         0  unknown  \n",
       " 2   jun       662         2     -1         0  unknown  \n",
       " 3   oct       293         3    508         1    other  \n",
       " 4   may       640         1     -1         0  unknown  )"
      ]
     },
     "execution_count": 730,
     "metadata": {},
     "output_type": "execute_result"
    }
   ],
   "source": [
    "df_train.head(), df_val.head()"
   ]
  },
  {
   "cell_type": "markdown",
   "id": "719e77b5-4a8e-4544-b6f0-8423bf96fae8",
   "metadata": {},
   "source": [
    "### Question 3\n",
    "\n",
    "- Calculate the mutual information score between y and other categorical variables in the dataset. Use the training set only.\n",
    "- Round the scores to 2 decimals using round(score, 2).\n",
    "\n",
    "Which of these variables has the biggest mutual information score?\n",
    "\n",
    "- contact\n",
    "- education\n",
    "- housing\n",
    "- poutcome"
   ]
  },
  {
   "cell_type": "code",
   "execution_count": 733,
   "id": "bf5d573d-f1a1-4d44-ad00-342032f0f3ab",
   "metadata": {},
   "outputs": [],
   "source": [
    "# Define the function for calculating thee mutual_info_score for a series of features\n",
    "def calculate_mi(series):\n",
    "    return round(mutual_info_score(series, df_train.y), 2)"
   ]
  },
  {
   "cell_type": "code",
   "execution_count": 735,
   "id": "6287413e-c811-470b-af90-e348672e74b9",
   "metadata": {},
   "outputs": [
    {
     "data": {
      "text/plain": [
       "job          0.01\n",
       "marital      0.00\n",
       "education    0.00\n",
       "housing      0.01\n",
       "contact      0.01\n",
       "month        0.03\n",
       "poutcome     0.03\n",
       "dtype: float64"
      ]
     },
     "execution_count": 735,
     "metadata": {},
     "output_type": "execute_result"
    }
   ],
   "source": [
    "# Apply function on categorial variable\n",
    "df_train['y'] = y_train\n",
    "df_mi = df_train[categorical].apply(calculate_mi)\n",
    "df_mi"
   ]
  },
  {
   "cell_type": "code",
   "execution_count": 737,
   "id": "a9608067-69f7-4723-be9f-8d2c7828cabf",
   "metadata": {},
   "outputs": [
    {
     "data": {
      "text/plain": [
       "month        0.03\n",
       "poutcome     0.03\n",
       "job          0.01\n",
       "housing      0.01\n",
       "contact      0.01\n",
       "marital      0.00\n",
       "education    0.00\n",
       "dtype: float64"
      ]
     },
     "execution_count": 737,
     "metadata": {},
     "output_type": "execute_result"
    }
   ],
   "source": [
    "# Sort the series in descending order\n",
    "df_mi = df_mi.sort_values(ascending=False)\n",
    "df_mi"
   ]
  },
  {
   "cell_type": "code",
   "execution_count": 739,
   "id": "720e2af8-dddb-4d88-b047-609890881868",
   "metadata": {},
   "outputs": [
    {
     "data": {
      "text/plain": [
       "contact      0.01\n",
       "education    0.00\n",
       "housing      0.01\n",
       "poutcome     0.03\n",
       "dtype: float64"
      ]
     },
     "execution_count": 739,
     "metadata": {},
     "output_type": "execute_result"
    }
   ],
   "source": [
    "# Apply function on categorial variables in question\n",
    "df_train['y'] = y_train\n",
    "df_mi_question = df_train[['contact', 'education', 'housing', 'poutcome']].apply(calculate_mi)\n",
    "df_mi_question"
   ]
  },
  {
   "cell_type": "code",
   "execution_count": 741,
   "id": "443c0331-4371-4f02-a829-b729df707557",
   "metadata": {},
   "outputs": [
    {
     "data": {
      "text/plain": [
       "poutcome     0.03\n",
       "contact      0.01\n",
       "housing      0.01\n",
       "education    0.00\n",
       "dtype: float64"
      ]
     },
     "execution_count": 741,
     "metadata": {},
     "output_type": "execute_result"
    }
   ],
   "source": [
    "# Sort the series of categorial variables in question in descending order\n",
    "df_mi_question = df_mi_question.sort_values(ascending=False)\n",
    "df_mi_question"
   ]
  },
  {
   "cell_type": "markdown",
   "id": "eb0f4727-30e1-4ff0-a5af-41e9abb854cc",
   "metadata": {},
   "source": [
    "#### Question 3 - Answer: 'poutcome'"
   ]
  },
  {
   "cell_type": "markdown",
   "id": "c1b14df1-8c6e-484f-8d9f-24f46dd7f59b",
   "metadata": {},
   "source": [
    "### Question 4\n",
    "\n",
    "- Now let's train a logistic regression.\n",
    "- Remember that we have several categorical variables in the dataset. Include them using one-hot encoding.\n",
    "- Fit the model on the training dataset.\n",
    "    - To make sure the results are reproducible across different versions of Scikit-Learn, fit the model with these parameters:\n",
    "    - model = LogisticRegression(solver='liblinear', C=1.0, max_iter=1000, random_state=42)\n",
    "- Calculate the accuracy on the validation dataset and round it to 2 decimal digits.\n",
    "\n",
    "What accuracy did you get?\n",
    "\n",
    "- 0.6\n",
    "- 0.7\n",
    "- 0.8\n",
    "- 0.9"
   ]
  },
  {
   "cell_type": "code",
   "execution_count": 745,
   "id": "a40f4534-0ed4-4cbe-93d4-a13da164cbf6",
   "metadata": {},
   "outputs": [
    {
     "data": {
      "text/plain": [
       "{'job': 'technician',\n",
       " 'marital': 'single',\n",
       " 'education': 'tertiary',\n",
       " 'housing': 'yes',\n",
       " 'contact': 'cellular',\n",
       " 'month': 'aug',\n",
       " 'poutcome': 'unknown',\n",
       " 'age': 32,\n",
       " 'balance': 1100,\n",
       " 'day': 11,\n",
       " 'duration': 67,\n",
       " 'campaign': 1,\n",
       " 'pdays': -1,\n",
       " 'previous': 0}"
      ]
     },
     "execution_count": 745,
     "metadata": {},
     "output_type": "execute_result"
    }
   ],
   "source": [
    "# Transform df_train to dictionary for using it in DictVectorizer\n",
    "train_dict = df_train[categorical + numerical].to_dict(orient='records')\n",
    "\n",
    "# View the first dictionary from the converted DataFrame to inspect the structure\n",
    "train_dict[0]"
   ]
  },
  {
   "cell_type": "code",
   "execution_count": 747,
   "id": "28d76167-2146-4150-9b13-908ee3de13e1",
   "metadata": {},
   "outputs": [
    {
     "data": {
      "text/html": [
       "<style>#sk-container-id-6 {\n",
       "  /* Definition of color scheme common for light and dark mode */\n",
       "  --sklearn-color-text: black;\n",
       "  --sklearn-color-line: gray;\n",
       "  /* Definition of color scheme for unfitted estimators */\n",
       "  --sklearn-color-unfitted-level-0: #fff5e6;\n",
       "  --sklearn-color-unfitted-level-1: #f6e4d2;\n",
       "  --sklearn-color-unfitted-level-2: #ffe0b3;\n",
       "  --sklearn-color-unfitted-level-3: chocolate;\n",
       "  /* Definition of color scheme for fitted estimators */\n",
       "  --sklearn-color-fitted-level-0: #f0f8ff;\n",
       "  --sklearn-color-fitted-level-1: #d4ebff;\n",
       "  --sklearn-color-fitted-level-2: #b3dbfd;\n",
       "  --sklearn-color-fitted-level-3: cornflowerblue;\n",
       "\n",
       "  /* Specific color for light theme */\n",
       "  --sklearn-color-text-on-default-background: var(--sg-text-color, var(--theme-code-foreground, var(--jp-content-font-color1, black)));\n",
       "  --sklearn-color-background: var(--sg-background-color, var(--theme-background, var(--jp-layout-color0, white)));\n",
       "  --sklearn-color-border-box: var(--sg-text-color, var(--theme-code-foreground, var(--jp-content-font-color1, black)));\n",
       "  --sklearn-color-icon: #696969;\n",
       "\n",
       "  @media (prefers-color-scheme: dark) {\n",
       "    /* Redefinition of color scheme for dark theme */\n",
       "    --sklearn-color-text-on-default-background: var(--sg-text-color, var(--theme-code-foreground, var(--jp-content-font-color1, white)));\n",
       "    --sklearn-color-background: var(--sg-background-color, var(--theme-background, var(--jp-layout-color0, #111)));\n",
       "    --sklearn-color-border-box: var(--sg-text-color, var(--theme-code-foreground, var(--jp-content-font-color1, white)));\n",
       "    --sklearn-color-icon: #878787;\n",
       "  }\n",
       "}\n",
       "\n",
       "#sk-container-id-6 {\n",
       "  color: var(--sklearn-color-text);\n",
       "}\n",
       "\n",
       "#sk-container-id-6 pre {\n",
       "  padding: 0;\n",
       "}\n",
       "\n",
       "#sk-container-id-6 input.sk-hidden--visually {\n",
       "  border: 0;\n",
       "  clip: rect(1px 1px 1px 1px);\n",
       "  clip: rect(1px, 1px, 1px, 1px);\n",
       "  height: 1px;\n",
       "  margin: -1px;\n",
       "  overflow: hidden;\n",
       "  padding: 0;\n",
       "  position: absolute;\n",
       "  width: 1px;\n",
       "}\n",
       "\n",
       "#sk-container-id-6 div.sk-dashed-wrapped {\n",
       "  border: 1px dashed var(--sklearn-color-line);\n",
       "  margin: 0 0.4em 0.5em 0.4em;\n",
       "  box-sizing: border-box;\n",
       "  padding-bottom: 0.4em;\n",
       "  background-color: var(--sklearn-color-background);\n",
       "}\n",
       "\n",
       "#sk-container-id-6 div.sk-container {\n",
       "  /* jupyter's `normalize.less` sets `[hidden] { display: none; }`\n",
       "     but bootstrap.min.css set `[hidden] { display: none !important; }`\n",
       "     so we also need the `!important` here to be able to override the\n",
       "     default hidden behavior on the sphinx rendered scikit-learn.org.\n",
       "     See: https://github.com/scikit-learn/scikit-learn/issues/21755 */\n",
       "  display: inline-block !important;\n",
       "  position: relative;\n",
       "}\n",
       "\n",
       "#sk-container-id-6 div.sk-text-repr-fallback {\n",
       "  display: none;\n",
       "}\n",
       "\n",
       "div.sk-parallel-item,\n",
       "div.sk-serial,\n",
       "div.sk-item {\n",
       "  /* draw centered vertical line to link estimators */\n",
       "  background-image: linear-gradient(var(--sklearn-color-text-on-default-background), var(--sklearn-color-text-on-default-background));\n",
       "  background-size: 2px 100%;\n",
       "  background-repeat: no-repeat;\n",
       "  background-position: center center;\n",
       "}\n",
       "\n",
       "/* Parallel-specific style estimator block */\n",
       "\n",
       "#sk-container-id-6 div.sk-parallel-item::after {\n",
       "  content: \"\";\n",
       "  width: 100%;\n",
       "  border-bottom: 2px solid var(--sklearn-color-text-on-default-background);\n",
       "  flex-grow: 1;\n",
       "}\n",
       "\n",
       "#sk-container-id-6 div.sk-parallel {\n",
       "  display: flex;\n",
       "  align-items: stretch;\n",
       "  justify-content: center;\n",
       "  background-color: var(--sklearn-color-background);\n",
       "  position: relative;\n",
       "}\n",
       "\n",
       "#sk-container-id-6 div.sk-parallel-item {\n",
       "  display: flex;\n",
       "  flex-direction: column;\n",
       "}\n",
       "\n",
       "#sk-container-id-6 div.sk-parallel-item:first-child::after {\n",
       "  align-self: flex-end;\n",
       "  width: 50%;\n",
       "}\n",
       "\n",
       "#sk-container-id-6 div.sk-parallel-item:last-child::after {\n",
       "  align-self: flex-start;\n",
       "  width: 50%;\n",
       "}\n",
       "\n",
       "#sk-container-id-6 div.sk-parallel-item:only-child::after {\n",
       "  width: 0;\n",
       "}\n",
       "\n",
       "/* Serial-specific style estimator block */\n",
       "\n",
       "#sk-container-id-6 div.sk-serial {\n",
       "  display: flex;\n",
       "  flex-direction: column;\n",
       "  align-items: center;\n",
       "  background-color: var(--sklearn-color-background);\n",
       "  padding-right: 1em;\n",
       "  padding-left: 1em;\n",
       "}\n",
       "\n",
       "\n",
       "/* Toggleable style: style used for estimator/Pipeline/ColumnTransformer box that is\n",
       "clickable and can be expanded/collapsed.\n",
       "- Pipeline and ColumnTransformer use this feature and define the default style\n",
       "- Estimators will overwrite some part of the style using the `sk-estimator` class\n",
       "*/\n",
       "\n",
       "/* Pipeline and ColumnTransformer style (default) */\n",
       "\n",
       "#sk-container-id-6 div.sk-toggleable {\n",
       "  /* Default theme specific background. It is overwritten whether we have a\n",
       "  specific estimator or a Pipeline/ColumnTransformer */\n",
       "  background-color: var(--sklearn-color-background);\n",
       "}\n",
       "\n",
       "/* Toggleable label */\n",
       "#sk-container-id-6 label.sk-toggleable__label {\n",
       "  cursor: pointer;\n",
       "  display: block;\n",
       "  width: 100%;\n",
       "  margin-bottom: 0;\n",
       "  padding: 0.5em;\n",
       "  box-sizing: border-box;\n",
       "  text-align: center;\n",
       "}\n",
       "\n",
       "#sk-container-id-6 label.sk-toggleable__label-arrow:before {\n",
       "  /* Arrow on the left of the label */\n",
       "  content: \"▸\";\n",
       "  float: left;\n",
       "  margin-right: 0.25em;\n",
       "  color: var(--sklearn-color-icon);\n",
       "}\n",
       "\n",
       "#sk-container-id-6 label.sk-toggleable__label-arrow:hover:before {\n",
       "  color: var(--sklearn-color-text);\n",
       "}\n",
       "\n",
       "/* Toggleable content - dropdown */\n",
       "\n",
       "#sk-container-id-6 div.sk-toggleable__content {\n",
       "  max-height: 0;\n",
       "  max-width: 0;\n",
       "  overflow: hidden;\n",
       "  text-align: left;\n",
       "  /* unfitted */\n",
       "  background-color: var(--sklearn-color-unfitted-level-0);\n",
       "}\n",
       "\n",
       "#sk-container-id-6 div.sk-toggleable__content.fitted {\n",
       "  /* fitted */\n",
       "  background-color: var(--sklearn-color-fitted-level-0);\n",
       "}\n",
       "\n",
       "#sk-container-id-6 div.sk-toggleable__content pre {\n",
       "  margin: 0.2em;\n",
       "  border-radius: 0.25em;\n",
       "  color: var(--sklearn-color-text);\n",
       "  /* unfitted */\n",
       "  background-color: var(--sklearn-color-unfitted-level-0);\n",
       "}\n",
       "\n",
       "#sk-container-id-6 div.sk-toggleable__content.fitted pre {\n",
       "  /* unfitted */\n",
       "  background-color: var(--sklearn-color-fitted-level-0);\n",
       "}\n",
       "\n",
       "#sk-container-id-6 input.sk-toggleable__control:checked~div.sk-toggleable__content {\n",
       "  /* Expand drop-down */\n",
       "  max-height: 200px;\n",
       "  max-width: 100%;\n",
       "  overflow: auto;\n",
       "}\n",
       "\n",
       "#sk-container-id-6 input.sk-toggleable__control:checked~label.sk-toggleable__label-arrow:before {\n",
       "  content: \"▾\";\n",
       "}\n",
       "\n",
       "/* Pipeline/ColumnTransformer-specific style */\n",
       "\n",
       "#sk-container-id-6 div.sk-label input.sk-toggleable__control:checked~label.sk-toggleable__label {\n",
       "  color: var(--sklearn-color-text);\n",
       "  background-color: var(--sklearn-color-unfitted-level-2);\n",
       "}\n",
       "\n",
       "#sk-container-id-6 div.sk-label.fitted input.sk-toggleable__control:checked~label.sk-toggleable__label {\n",
       "  background-color: var(--sklearn-color-fitted-level-2);\n",
       "}\n",
       "\n",
       "/* Estimator-specific style */\n",
       "\n",
       "/* Colorize estimator box */\n",
       "#sk-container-id-6 div.sk-estimator input.sk-toggleable__control:checked~label.sk-toggleable__label {\n",
       "  /* unfitted */\n",
       "  background-color: var(--sklearn-color-unfitted-level-2);\n",
       "}\n",
       "\n",
       "#sk-container-id-6 div.sk-estimator.fitted input.sk-toggleable__control:checked~label.sk-toggleable__label {\n",
       "  /* fitted */\n",
       "  background-color: var(--sklearn-color-fitted-level-2);\n",
       "}\n",
       "\n",
       "#sk-container-id-6 div.sk-label label.sk-toggleable__label,\n",
       "#sk-container-id-6 div.sk-label label {\n",
       "  /* The background is the default theme color */\n",
       "  color: var(--sklearn-color-text-on-default-background);\n",
       "}\n",
       "\n",
       "/* On hover, darken the color of the background */\n",
       "#sk-container-id-6 div.sk-label:hover label.sk-toggleable__label {\n",
       "  color: var(--sklearn-color-text);\n",
       "  background-color: var(--sklearn-color-unfitted-level-2);\n",
       "}\n",
       "\n",
       "/* Label box, darken color on hover, fitted */\n",
       "#sk-container-id-6 div.sk-label.fitted:hover label.sk-toggleable__label.fitted {\n",
       "  color: var(--sklearn-color-text);\n",
       "  background-color: var(--sklearn-color-fitted-level-2);\n",
       "}\n",
       "\n",
       "/* Estimator label */\n",
       "\n",
       "#sk-container-id-6 div.sk-label label {\n",
       "  font-family: monospace;\n",
       "  font-weight: bold;\n",
       "  display: inline-block;\n",
       "  line-height: 1.2em;\n",
       "}\n",
       "\n",
       "#sk-container-id-6 div.sk-label-container {\n",
       "  text-align: center;\n",
       "}\n",
       "\n",
       "/* Estimator-specific */\n",
       "#sk-container-id-6 div.sk-estimator {\n",
       "  font-family: monospace;\n",
       "  border: 1px dotted var(--sklearn-color-border-box);\n",
       "  border-radius: 0.25em;\n",
       "  box-sizing: border-box;\n",
       "  margin-bottom: 0.5em;\n",
       "  /* unfitted */\n",
       "  background-color: var(--sklearn-color-unfitted-level-0);\n",
       "}\n",
       "\n",
       "#sk-container-id-6 div.sk-estimator.fitted {\n",
       "  /* fitted */\n",
       "  background-color: var(--sklearn-color-fitted-level-0);\n",
       "}\n",
       "\n",
       "/* on hover */\n",
       "#sk-container-id-6 div.sk-estimator:hover {\n",
       "  /* unfitted */\n",
       "  background-color: var(--sklearn-color-unfitted-level-2);\n",
       "}\n",
       "\n",
       "#sk-container-id-6 div.sk-estimator.fitted:hover {\n",
       "  /* fitted */\n",
       "  background-color: var(--sklearn-color-fitted-level-2);\n",
       "}\n",
       "\n",
       "/* Specification for estimator info (e.g. \"i\" and \"?\") */\n",
       "\n",
       "/* Common style for \"i\" and \"?\" */\n",
       "\n",
       ".sk-estimator-doc-link,\n",
       "a:link.sk-estimator-doc-link,\n",
       "a:visited.sk-estimator-doc-link {\n",
       "  float: right;\n",
       "  font-size: smaller;\n",
       "  line-height: 1em;\n",
       "  font-family: monospace;\n",
       "  background-color: var(--sklearn-color-background);\n",
       "  border-radius: 1em;\n",
       "  height: 1em;\n",
       "  width: 1em;\n",
       "  text-decoration: none !important;\n",
       "  margin-left: 1ex;\n",
       "  /* unfitted */\n",
       "  border: var(--sklearn-color-unfitted-level-1) 1pt solid;\n",
       "  color: var(--sklearn-color-unfitted-level-1);\n",
       "}\n",
       "\n",
       ".sk-estimator-doc-link.fitted,\n",
       "a:link.sk-estimator-doc-link.fitted,\n",
       "a:visited.sk-estimator-doc-link.fitted {\n",
       "  /* fitted */\n",
       "  border: var(--sklearn-color-fitted-level-1) 1pt solid;\n",
       "  color: var(--sklearn-color-fitted-level-1);\n",
       "}\n",
       "\n",
       "/* On hover */\n",
       "div.sk-estimator:hover .sk-estimator-doc-link:hover,\n",
       ".sk-estimator-doc-link:hover,\n",
       "div.sk-label-container:hover .sk-estimator-doc-link:hover,\n",
       ".sk-estimator-doc-link:hover {\n",
       "  /* unfitted */\n",
       "  background-color: var(--sklearn-color-unfitted-level-3);\n",
       "  color: var(--sklearn-color-background);\n",
       "  text-decoration: none;\n",
       "}\n",
       "\n",
       "div.sk-estimator.fitted:hover .sk-estimator-doc-link.fitted:hover,\n",
       ".sk-estimator-doc-link.fitted:hover,\n",
       "div.sk-label-container:hover .sk-estimator-doc-link.fitted:hover,\n",
       ".sk-estimator-doc-link.fitted:hover {\n",
       "  /* fitted */\n",
       "  background-color: var(--sklearn-color-fitted-level-3);\n",
       "  color: var(--sklearn-color-background);\n",
       "  text-decoration: none;\n",
       "}\n",
       "\n",
       "/* Span, style for the box shown on hovering the info icon */\n",
       ".sk-estimator-doc-link span {\n",
       "  display: none;\n",
       "  z-index: 9999;\n",
       "  position: relative;\n",
       "  font-weight: normal;\n",
       "  right: .2ex;\n",
       "  padding: .5ex;\n",
       "  margin: .5ex;\n",
       "  width: min-content;\n",
       "  min-width: 20ex;\n",
       "  max-width: 50ex;\n",
       "  color: var(--sklearn-color-text);\n",
       "  box-shadow: 2pt 2pt 4pt #999;\n",
       "  /* unfitted */\n",
       "  background: var(--sklearn-color-unfitted-level-0);\n",
       "  border: .5pt solid var(--sklearn-color-unfitted-level-3);\n",
       "}\n",
       "\n",
       ".sk-estimator-doc-link.fitted span {\n",
       "  /* fitted */\n",
       "  background: var(--sklearn-color-fitted-level-0);\n",
       "  border: var(--sklearn-color-fitted-level-3);\n",
       "}\n",
       "\n",
       ".sk-estimator-doc-link:hover span {\n",
       "  display: block;\n",
       "}\n",
       "\n",
       "/* \"?\"-specific style due to the `<a>` HTML tag */\n",
       "\n",
       "#sk-container-id-6 a.estimator_doc_link {\n",
       "  float: right;\n",
       "  font-size: 1rem;\n",
       "  line-height: 1em;\n",
       "  font-family: monospace;\n",
       "  background-color: var(--sklearn-color-background);\n",
       "  border-radius: 1rem;\n",
       "  height: 1rem;\n",
       "  width: 1rem;\n",
       "  text-decoration: none;\n",
       "  /* unfitted */\n",
       "  color: var(--sklearn-color-unfitted-level-1);\n",
       "  border: var(--sklearn-color-unfitted-level-1) 1pt solid;\n",
       "}\n",
       "\n",
       "#sk-container-id-6 a.estimator_doc_link.fitted {\n",
       "  /* fitted */\n",
       "  border: var(--sklearn-color-fitted-level-1) 1pt solid;\n",
       "  color: var(--sklearn-color-fitted-level-1);\n",
       "}\n",
       "\n",
       "/* On hover */\n",
       "#sk-container-id-6 a.estimator_doc_link:hover {\n",
       "  /* unfitted */\n",
       "  background-color: var(--sklearn-color-unfitted-level-3);\n",
       "  color: var(--sklearn-color-background);\n",
       "  text-decoration: none;\n",
       "}\n",
       "\n",
       "#sk-container-id-6 a.estimator_doc_link.fitted:hover {\n",
       "  /* fitted */\n",
       "  background-color: var(--sklearn-color-fitted-level-3);\n",
       "}\n",
       "</style><div id=\"sk-container-id-6\" class=\"sk-top-container\"><div class=\"sk-text-repr-fallback\"><pre>DictVectorizer(sparse=False)</pre><b>In a Jupyter environment, please rerun this cell to show the HTML representation or trust the notebook. <br />On GitHub, the HTML representation is unable to render, please try loading this page with nbviewer.org.</b></div><div class=\"sk-container\" hidden><div class=\"sk-item\"><div class=\"sk-estimator fitted sk-toggleable\"><input class=\"sk-toggleable__control sk-hidden--visually\" id=\"sk-estimator-id-6\" type=\"checkbox\" checked><label for=\"sk-estimator-id-6\" class=\"sk-toggleable__label fitted sk-toggleable__label-arrow fitted\">&nbsp;&nbsp;DictVectorizer<a class=\"sk-estimator-doc-link fitted\" rel=\"noreferrer\" target=\"_blank\" href=\"https://scikit-learn.org/1.5/modules/generated/sklearn.feature_extraction.DictVectorizer.html\">?<span>Documentation for DictVectorizer</span></a><span class=\"sk-estimator-doc-link fitted\">i<span>Fitted</span></span></label><div class=\"sk-toggleable__content fitted\"><pre>DictVectorizer(sparse=False)</pre></div> </div></div></div></div>"
      ],
      "text/plain": [
       "DictVectorizer(sparse=False)"
      ]
     },
     "execution_count": 747,
     "metadata": {},
     "output_type": "execute_result"
    }
   ],
   "source": [
    "# Initialize the DictVectorizer. Setting sparse=False ensures the output is a dense array.\n",
    "dv = DictVectorizer(sparse=False)\n",
    "\n",
    "# Fit the vectorizer to the training data (it learns the feature space from the dictionary keys)\n",
    "dv.fit(train_dict)"
   ]
  },
  {
   "cell_type": "code",
   "execution_count": 749,
   "id": "94ad6f9c-0449-4269-9eb7-6b43c7af332d",
   "metadata": {},
   "outputs": [
    {
     "name": "stdout",
     "output_type": "stream",
     "text": [
      "[[  32. 1100.    1. ...    0.    1.    0.]\n",
      " [  38.    0.    1. ...    0.    1.    0.]\n",
      " [  49. 3309.    2. ...    0.    1.    0.]\n",
      " ...\n",
      " [  54.    0.    1. ...    0.    1.    0.]\n",
      " [  25. 2311.    2. ...    0.    1.    0.]\n",
      " [  30.   15.    2. ...    0.    1.    0.]]\n",
      "(27126, 47)\n"
     ]
    }
   ],
   "source": [
    "# Transform the training data into a numerical format (one-hot encode categorical variables)\n",
    "X_train = dv.transform(train_dict)\n",
    "print(X_train)\n",
    "print(X_train.shape)"
   ]
  },
  {
   "cell_type": "code",
   "execution_count": 750,
   "id": "1aa81fd6-8e33-45c3-a42b-049e47f42a45",
   "metadata": {},
   "outputs": [
    {
     "name": "stdout",
     "output_type": "stream",
     "text": [
      "(27126, 47)\n"
     ]
    }
   ],
   "source": [
    "# Use fit_transform in one step (fit and transform in a single call)\n",
    "X_train = dv.fit_transform(train_dict)\n",
    "\n",
    "# Check the shape again after using fit_transform\n",
    "print(X_train.shape)"
   ]
  },
  {
   "cell_type": "code",
   "execution_count": 752,
   "id": "fc06c9e4-9380-4b7f-93ac-af02385821e1",
   "metadata": {},
   "outputs": [
    {
     "name": "stdout",
     "output_type": "stream",
     "text": [
      "['age' 'balance' 'campaign' 'contact=cellular' 'contact=telephone'\n",
      " 'contact=unknown' 'day' 'duration' 'education=primary'\n",
      " 'education=secondary' 'education=tertiary' 'education=unknown'\n",
      " 'housing=no' 'housing=yes' 'job=admin.' 'job=blue-collar'\n",
      " 'job=entrepreneur' 'job=housemaid' 'job=management' 'job=retired'\n",
      " 'job=self-employed' 'job=services' 'job=student' 'job=technician'\n",
      " 'job=unemployed' 'job=unknown' 'marital=divorced' 'marital=married'\n",
      " 'marital=single' 'month=apr' 'month=aug' 'month=dec' 'month=feb'\n",
      " 'month=jan' 'month=jul' 'month=jun' 'month=mar' 'month=may' 'month=nov'\n",
      " 'month=oct' 'month=sep' 'pdays' 'poutcome=failure' 'poutcome=other'\n",
      " 'poutcome=success' 'poutcome=unknown' 'previous']\n"
     ]
    }
   ],
   "source": [
    "# Get the feature names generated by the DictVectorizer after fitting (to see what features were created)\n",
    "print(dv.get_feature_names_out())"
   ]
  },
  {
   "cell_type": "code",
   "execution_count": 753,
   "id": "84cdcc9b-0568-45e3-afd2-9bffdd47acb1",
   "metadata": {},
   "outputs": [
    {
     "name": "stdout",
     "output_type": "stream",
     "text": [
      "[32.0, 1100.0, 1.0, 1.0, 0.0, 0.0, 11.0, 67.0, 0.0, 0.0, 1.0, 0.0, 0.0, 1.0, 0.0, 0.0, 0.0, 0.0, 0.0, 0.0, 0.0, 0.0, 0.0, 1.0, 0.0, 0.0, 0.0, 0.0, 1.0, 0.0, 1.0, 0.0, 0.0, 0.0, 0.0, 0.0, 0.0, 0.0, 0.0, 0.0, 0.0, -1.0, 0.0, 0.0, 0.0, 1.0, 0.0]\n"
     ]
    }
   ],
   "source": [
    "# Transform a small sample of the data and convert the first row into a list to see the result\n",
    "print(list(dv.transform(train_dict[:5])[0]))"
   ]
  },
  {
   "cell_type": "code",
   "execution_count": 757,
   "id": "a0c4047c-45ec-4ce4-bbd7-6ffb3396afd3",
   "metadata": {},
   "outputs": [],
   "source": [
    "# Convert the validation DataFrame into a list of dictionaries (same process as for the training set)\n",
    "val_dict = df_val[categorical + numerical].to_dict(orient='records')"
   ]
  },
  {
   "cell_type": "code",
   "execution_count": 759,
   "id": "90c5fe7c-a8af-4ee4-b95a-060dfafbc4f7",
   "metadata": {},
   "outputs": [
    {
     "name": "stdout",
     "output_type": "stream",
     "text": [
      "(9042, 47)\n"
     ]
    }
   ],
   "source": [
    "# Transform the validation data using the same DictVectorizer (no need to fit again, just transform)\n",
    "X_val = dv.transform(val_dict)\n",
    "\n",
    "# Check the shape of the validation data to ensure it matches the expected dimensions\n",
    "print(X_val.shape)"
   ]
  },
  {
   "cell_type": "code",
   "execution_count": 761,
   "id": "becb40c3-a786-492b-b10e-7ba062d5e4b8",
   "metadata": {},
   "outputs": [],
   "source": [
    "import pandas as pd\n",
    "y_train = pd.Series(y_train)"
   ]
  },
  {
   "cell_type": "code",
   "execution_count": 767,
   "id": "5c8744bc-e1a2-4398-945b-b29a008a1bb9",
   "metadata": {},
   "outputs": [
    {
     "name": "stdout",
     "output_type": "stream",
     "text": [
      "int32\n"
     ]
    },
    {
     "data": {
      "text/html": [
       "<style>#sk-container-id-8 {\n",
       "  /* Definition of color scheme common for light and dark mode */\n",
       "  --sklearn-color-text: black;\n",
       "  --sklearn-color-line: gray;\n",
       "  /* Definition of color scheme for unfitted estimators */\n",
       "  --sklearn-color-unfitted-level-0: #fff5e6;\n",
       "  --sklearn-color-unfitted-level-1: #f6e4d2;\n",
       "  --sklearn-color-unfitted-level-2: #ffe0b3;\n",
       "  --sklearn-color-unfitted-level-3: chocolate;\n",
       "  /* Definition of color scheme for fitted estimators */\n",
       "  --sklearn-color-fitted-level-0: #f0f8ff;\n",
       "  --sklearn-color-fitted-level-1: #d4ebff;\n",
       "  --sklearn-color-fitted-level-2: #b3dbfd;\n",
       "  --sklearn-color-fitted-level-3: cornflowerblue;\n",
       "\n",
       "  /* Specific color for light theme */\n",
       "  --sklearn-color-text-on-default-background: var(--sg-text-color, var(--theme-code-foreground, var(--jp-content-font-color1, black)));\n",
       "  --sklearn-color-background: var(--sg-background-color, var(--theme-background, var(--jp-layout-color0, white)));\n",
       "  --sklearn-color-border-box: var(--sg-text-color, var(--theme-code-foreground, var(--jp-content-font-color1, black)));\n",
       "  --sklearn-color-icon: #696969;\n",
       "\n",
       "  @media (prefers-color-scheme: dark) {\n",
       "    /* Redefinition of color scheme for dark theme */\n",
       "    --sklearn-color-text-on-default-background: var(--sg-text-color, var(--theme-code-foreground, var(--jp-content-font-color1, white)));\n",
       "    --sklearn-color-background: var(--sg-background-color, var(--theme-background, var(--jp-layout-color0, #111)));\n",
       "    --sklearn-color-border-box: var(--sg-text-color, var(--theme-code-foreground, var(--jp-content-font-color1, white)));\n",
       "    --sklearn-color-icon: #878787;\n",
       "  }\n",
       "}\n",
       "\n",
       "#sk-container-id-8 {\n",
       "  color: var(--sklearn-color-text);\n",
       "}\n",
       "\n",
       "#sk-container-id-8 pre {\n",
       "  padding: 0;\n",
       "}\n",
       "\n",
       "#sk-container-id-8 input.sk-hidden--visually {\n",
       "  border: 0;\n",
       "  clip: rect(1px 1px 1px 1px);\n",
       "  clip: rect(1px, 1px, 1px, 1px);\n",
       "  height: 1px;\n",
       "  margin: -1px;\n",
       "  overflow: hidden;\n",
       "  padding: 0;\n",
       "  position: absolute;\n",
       "  width: 1px;\n",
       "}\n",
       "\n",
       "#sk-container-id-8 div.sk-dashed-wrapped {\n",
       "  border: 1px dashed var(--sklearn-color-line);\n",
       "  margin: 0 0.4em 0.5em 0.4em;\n",
       "  box-sizing: border-box;\n",
       "  padding-bottom: 0.4em;\n",
       "  background-color: var(--sklearn-color-background);\n",
       "}\n",
       "\n",
       "#sk-container-id-8 div.sk-container {\n",
       "  /* jupyter's `normalize.less` sets `[hidden] { display: none; }`\n",
       "     but bootstrap.min.css set `[hidden] { display: none !important; }`\n",
       "     so we also need the `!important` here to be able to override the\n",
       "     default hidden behavior on the sphinx rendered scikit-learn.org.\n",
       "     See: https://github.com/scikit-learn/scikit-learn/issues/21755 */\n",
       "  display: inline-block !important;\n",
       "  position: relative;\n",
       "}\n",
       "\n",
       "#sk-container-id-8 div.sk-text-repr-fallback {\n",
       "  display: none;\n",
       "}\n",
       "\n",
       "div.sk-parallel-item,\n",
       "div.sk-serial,\n",
       "div.sk-item {\n",
       "  /* draw centered vertical line to link estimators */\n",
       "  background-image: linear-gradient(var(--sklearn-color-text-on-default-background), var(--sklearn-color-text-on-default-background));\n",
       "  background-size: 2px 100%;\n",
       "  background-repeat: no-repeat;\n",
       "  background-position: center center;\n",
       "}\n",
       "\n",
       "/* Parallel-specific style estimator block */\n",
       "\n",
       "#sk-container-id-8 div.sk-parallel-item::after {\n",
       "  content: \"\";\n",
       "  width: 100%;\n",
       "  border-bottom: 2px solid var(--sklearn-color-text-on-default-background);\n",
       "  flex-grow: 1;\n",
       "}\n",
       "\n",
       "#sk-container-id-8 div.sk-parallel {\n",
       "  display: flex;\n",
       "  align-items: stretch;\n",
       "  justify-content: center;\n",
       "  background-color: var(--sklearn-color-background);\n",
       "  position: relative;\n",
       "}\n",
       "\n",
       "#sk-container-id-8 div.sk-parallel-item {\n",
       "  display: flex;\n",
       "  flex-direction: column;\n",
       "}\n",
       "\n",
       "#sk-container-id-8 div.sk-parallel-item:first-child::after {\n",
       "  align-self: flex-end;\n",
       "  width: 50%;\n",
       "}\n",
       "\n",
       "#sk-container-id-8 div.sk-parallel-item:last-child::after {\n",
       "  align-self: flex-start;\n",
       "  width: 50%;\n",
       "}\n",
       "\n",
       "#sk-container-id-8 div.sk-parallel-item:only-child::after {\n",
       "  width: 0;\n",
       "}\n",
       "\n",
       "/* Serial-specific style estimator block */\n",
       "\n",
       "#sk-container-id-8 div.sk-serial {\n",
       "  display: flex;\n",
       "  flex-direction: column;\n",
       "  align-items: center;\n",
       "  background-color: var(--sklearn-color-background);\n",
       "  padding-right: 1em;\n",
       "  padding-left: 1em;\n",
       "}\n",
       "\n",
       "\n",
       "/* Toggleable style: style used for estimator/Pipeline/ColumnTransformer box that is\n",
       "clickable and can be expanded/collapsed.\n",
       "- Pipeline and ColumnTransformer use this feature and define the default style\n",
       "- Estimators will overwrite some part of the style using the `sk-estimator` class\n",
       "*/\n",
       "\n",
       "/* Pipeline and ColumnTransformer style (default) */\n",
       "\n",
       "#sk-container-id-8 div.sk-toggleable {\n",
       "  /* Default theme specific background. It is overwritten whether we have a\n",
       "  specific estimator or a Pipeline/ColumnTransformer */\n",
       "  background-color: var(--sklearn-color-background);\n",
       "}\n",
       "\n",
       "/* Toggleable label */\n",
       "#sk-container-id-8 label.sk-toggleable__label {\n",
       "  cursor: pointer;\n",
       "  display: block;\n",
       "  width: 100%;\n",
       "  margin-bottom: 0;\n",
       "  padding: 0.5em;\n",
       "  box-sizing: border-box;\n",
       "  text-align: center;\n",
       "}\n",
       "\n",
       "#sk-container-id-8 label.sk-toggleable__label-arrow:before {\n",
       "  /* Arrow on the left of the label */\n",
       "  content: \"▸\";\n",
       "  float: left;\n",
       "  margin-right: 0.25em;\n",
       "  color: var(--sklearn-color-icon);\n",
       "}\n",
       "\n",
       "#sk-container-id-8 label.sk-toggleable__label-arrow:hover:before {\n",
       "  color: var(--sklearn-color-text);\n",
       "}\n",
       "\n",
       "/* Toggleable content - dropdown */\n",
       "\n",
       "#sk-container-id-8 div.sk-toggleable__content {\n",
       "  max-height: 0;\n",
       "  max-width: 0;\n",
       "  overflow: hidden;\n",
       "  text-align: left;\n",
       "  /* unfitted */\n",
       "  background-color: var(--sklearn-color-unfitted-level-0);\n",
       "}\n",
       "\n",
       "#sk-container-id-8 div.sk-toggleable__content.fitted {\n",
       "  /* fitted */\n",
       "  background-color: var(--sklearn-color-fitted-level-0);\n",
       "}\n",
       "\n",
       "#sk-container-id-8 div.sk-toggleable__content pre {\n",
       "  margin: 0.2em;\n",
       "  border-radius: 0.25em;\n",
       "  color: var(--sklearn-color-text);\n",
       "  /* unfitted */\n",
       "  background-color: var(--sklearn-color-unfitted-level-0);\n",
       "}\n",
       "\n",
       "#sk-container-id-8 div.sk-toggleable__content.fitted pre {\n",
       "  /* unfitted */\n",
       "  background-color: var(--sklearn-color-fitted-level-0);\n",
       "}\n",
       "\n",
       "#sk-container-id-8 input.sk-toggleable__control:checked~div.sk-toggleable__content {\n",
       "  /* Expand drop-down */\n",
       "  max-height: 200px;\n",
       "  max-width: 100%;\n",
       "  overflow: auto;\n",
       "}\n",
       "\n",
       "#sk-container-id-8 input.sk-toggleable__control:checked~label.sk-toggleable__label-arrow:before {\n",
       "  content: \"▾\";\n",
       "}\n",
       "\n",
       "/* Pipeline/ColumnTransformer-specific style */\n",
       "\n",
       "#sk-container-id-8 div.sk-label input.sk-toggleable__control:checked~label.sk-toggleable__label {\n",
       "  color: var(--sklearn-color-text);\n",
       "  background-color: var(--sklearn-color-unfitted-level-2);\n",
       "}\n",
       "\n",
       "#sk-container-id-8 div.sk-label.fitted input.sk-toggleable__control:checked~label.sk-toggleable__label {\n",
       "  background-color: var(--sklearn-color-fitted-level-2);\n",
       "}\n",
       "\n",
       "/* Estimator-specific style */\n",
       "\n",
       "/* Colorize estimator box */\n",
       "#sk-container-id-8 div.sk-estimator input.sk-toggleable__control:checked~label.sk-toggleable__label {\n",
       "  /* unfitted */\n",
       "  background-color: var(--sklearn-color-unfitted-level-2);\n",
       "}\n",
       "\n",
       "#sk-container-id-8 div.sk-estimator.fitted input.sk-toggleable__control:checked~label.sk-toggleable__label {\n",
       "  /* fitted */\n",
       "  background-color: var(--sklearn-color-fitted-level-2);\n",
       "}\n",
       "\n",
       "#sk-container-id-8 div.sk-label label.sk-toggleable__label,\n",
       "#sk-container-id-8 div.sk-label label {\n",
       "  /* The background is the default theme color */\n",
       "  color: var(--sklearn-color-text-on-default-background);\n",
       "}\n",
       "\n",
       "/* On hover, darken the color of the background */\n",
       "#sk-container-id-8 div.sk-label:hover label.sk-toggleable__label {\n",
       "  color: var(--sklearn-color-text);\n",
       "  background-color: var(--sklearn-color-unfitted-level-2);\n",
       "}\n",
       "\n",
       "/* Label box, darken color on hover, fitted */\n",
       "#sk-container-id-8 div.sk-label.fitted:hover label.sk-toggleable__label.fitted {\n",
       "  color: var(--sklearn-color-text);\n",
       "  background-color: var(--sklearn-color-fitted-level-2);\n",
       "}\n",
       "\n",
       "/* Estimator label */\n",
       "\n",
       "#sk-container-id-8 div.sk-label label {\n",
       "  font-family: monospace;\n",
       "  font-weight: bold;\n",
       "  display: inline-block;\n",
       "  line-height: 1.2em;\n",
       "}\n",
       "\n",
       "#sk-container-id-8 div.sk-label-container {\n",
       "  text-align: center;\n",
       "}\n",
       "\n",
       "/* Estimator-specific */\n",
       "#sk-container-id-8 div.sk-estimator {\n",
       "  font-family: monospace;\n",
       "  border: 1px dotted var(--sklearn-color-border-box);\n",
       "  border-radius: 0.25em;\n",
       "  box-sizing: border-box;\n",
       "  margin-bottom: 0.5em;\n",
       "  /* unfitted */\n",
       "  background-color: var(--sklearn-color-unfitted-level-0);\n",
       "}\n",
       "\n",
       "#sk-container-id-8 div.sk-estimator.fitted {\n",
       "  /* fitted */\n",
       "  background-color: var(--sklearn-color-fitted-level-0);\n",
       "}\n",
       "\n",
       "/* on hover */\n",
       "#sk-container-id-8 div.sk-estimator:hover {\n",
       "  /* unfitted */\n",
       "  background-color: var(--sklearn-color-unfitted-level-2);\n",
       "}\n",
       "\n",
       "#sk-container-id-8 div.sk-estimator.fitted:hover {\n",
       "  /* fitted */\n",
       "  background-color: var(--sklearn-color-fitted-level-2);\n",
       "}\n",
       "\n",
       "/* Specification for estimator info (e.g. \"i\" and \"?\") */\n",
       "\n",
       "/* Common style for \"i\" and \"?\" */\n",
       "\n",
       ".sk-estimator-doc-link,\n",
       "a:link.sk-estimator-doc-link,\n",
       "a:visited.sk-estimator-doc-link {\n",
       "  float: right;\n",
       "  font-size: smaller;\n",
       "  line-height: 1em;\n",
       "  font-family: monospace;\n",
       "  background-color: var(--sklearn-color-background);\n",
       "  border-radius: 1em;\n",
       "  height: 1em;\n",
       "  width: 1em;\n",
       "  text-decoration: none !important;\n",
       "  margin-left: 1ex;\n",
       "  /* unfitted */\n",
       "  border: var(--sklearn-color-unfitted-level-1) 1pt solid;\n",
       "  color: var(--sklearn-color-unfitted-level-1);\n",
       "}\n",
       "\n",
       ".sk-estimator-doc-link.fitted,\n",
       "a:link.sk-estimator-doc-link.fitted,\n",
       "a:visited.sk-estimator-doc-link.fitted {\n",
       "  /* fitted */\n",
       "  border: var(--sklearn-color-fitted-level-1) 1pt solid;\n",
       "  color: var(--sklearn-color-fitted-level-1);\n",
       "}\n",
       "\n",
       "/* On hover */\n",
       "div.sk-estimator:hover .sk-estimator-doc-link:hover,\n",
       ".sk-estimator-doc-link:hover,\n",
       "div.sk-label-container:hover .sk-estimator-doc-link:hover,\n",
       ".sk-estimator-doc-link:hover {\n",
       "  /* unfitted */\n",
       "  background-color: var(--sklearn-color-unfitted-level-3);\n",
       "  color: var(--sklearn-color-background);\n",
       "  text-decoration: none;\n",
       "}\n",
       "\n",
       "div.sk-estimator.fitted:hover .sk-estimator-doc-link.fitted:hover,\n",
       ".sk-estimator-doc-link.fitted:hover,\n",
       "div.sk-label-container:hover .sk-estimator-doc-link.fitted:hover,\n",
       ".sk-estimator-doc-link.fitted:hover {\n",
       "  /* fitted */\n",
       "  background-color: var(--sklearn-color-fitted-level-3);\n",
       "  color: var(--sklearn-color-background);\n",
       "  text-decoration: none;\n",
       "}\n",
       "\n",
       "/* Span, style for the box shown on hovering the info icon */\n",
       ".sk-estimator-doc-link span {\n",
       "  display: none;\n",
       "  z-index: 9999;\n",
       "  position: relative;\n",
       "  font-weight: normal;\n",
       "  right: .2ex;\n",
       "  padding: .5ex;\n",
       "  margin: .5ex;\n",
       "  width: min-content;\n",
       "  min-width: 20ex;\n",
       "  max-width: 50ex;\n",
       "  color: var(--sklearn-color-text);\n",
       "  box-shadow: 2pt 2pt 4pt #999;\n",
       "  /* unfitted */\n",
       "  background: var(--sklearn-color-unfitted-level-0);\n",
       "  border: .5pt solid var(--sklearn-color-unfitted-level-3);\n",
       "}\n",
       "\n",
       ".sk-estimator-doc-link.fitted span {\n",
       "  /* fitted */\n",
       "  background: var(--sklearn-color-fitted-level-0);\n",
       "  border: var(--sklearn-color-fitted-level-3);\n",
       "}\n",
       "\n",
       ".sk-estimator-doc-link:hover span {\n",
       "  display: block;\n",
       "}\n",
       "\n",
       "/* \"?\"-specific style due to the `<a>` HTML tag */\n",
       "\n",
       "#sk-container-id-8 a.estimator_doc_link {\n",
       "  float: right;\n",
       "  font-size: 1rem;\n",
       "  line-height: 1em;\n",
       "  font-family: monospace;\n",
       "  background-color: var(--sklearn-color-background);\n",
       "  border-radius: 1rem;\n",
       "  height: 1rem;\n",
       "  width: 1rem;\n",
       "  text-decoration: none;\n",
       "  /* unfitted */\n",
       "  color: var(--sklearn-color-unfitted-level-1);\n",
       "  border: var(--sklearn-color-unfitted-level-1) 1pt solid;\n",
       "}\n",
       "\n",
       "#sk-container-id-8 a.estimator_doc_link.fitted {\n",
       "  /* fitted */\n",
       "  border: var(--sklearn-color-fitted-level-1) 1pt solid;\n",
       "  color: var(--sklearn-color-fitted-level-1);\n",
       "}\n",
       "\n",
       "/* On hover */\n",
       "#sk-container-id-8 a.estimator_doc_link:hover {\n",
       "  /* unfitted */\n",
       "  background-color: var(--sklearn-color-unfitted-level-3);\n",
       "  color: var(--sklearn-color-background);\n",
       "  text-decoration: none;\n",
       "}\n",
       "\n",
       "#sk-container-id-8 a.estimator_doc_link.fitted:hover {\n",
       "  /* fitted */\n",
       "  background-color: var(--sklearn-color-fitted-level-3);\n",
       "}\n",
       "</style><div id=\"sk-container-id-8\" class=\"sk-top-container\"><div class=\"sk-text-repr-fallback\"><pre>LogisticRegression(max_iter=1000, random_state=42, solver=&#x27;liblinear&#x27;)</pre><b>In a Jupyter environment, please rerun this cell to show the HTML representation or trust the notebook. <br />On GitHub, the HTML representation is unable to render, please try loading this page with nbviewer.org.</b></div><div class=\"sk-container\" hidden><div class=\"sk-item\"><div class=\"sk-estimator fitted sk-toggleable\"><input class=\"sk-toggleable__control sk-hidden--visually\" id=\"sk-estimator-id-8\" type=\"checkbox\" checked><label for=\"sk-estimator-id-8\" class=\"sk-toggleable__label fitted sk-toggleable__label-arrow fitted\">&nbsp;&nbsp;LogisticRegression<a class=\"sk-estimator-doc-link fitted\" rel=\"noreferrer\" target=\"_blank\" href=\"https://scikit-learn.org/1.5/modules/generated/sklearn.linear_model.LogisticRegression.html\">?<span>Documentation for LogisticRegression</span></a><span class=\"sk-estimator-doc-link fitted\">i<span>Fitted</span></span></label><div class=\"sk-toggleable__content fitted\"><pre>LogisticRegression(max_iter=1000, random_state=42, solver=&#x27;liblinear&#x27;)</pre></div> </div></div></div></div>"
      ],
      "text/plain": [
       "LogisticRegression(max_iter=1000, random_state=42, solver='liblinear')"
      ]
     },
     "execution_count": 767,
     "metadata": {},
     "output_type": "execute_result"
    }
   ],
   "source": [
    "# Convert y_train from object type to integer type (binary classification requires numeric values)\n",
    "y_train = y_train.astype(int)\n",
    "\n",
    "# Verify that y_train is now of dtype int (should print int64 or int32)\n",
    "print(y_train.dtype)\n",
    "\n",
    "# Initialize the logistic regression model with specific parameters (liblinear solver, C=1.0, max_iter=1000)\n",
    "model = LogisticRegression(solver='liblinear', C=1.0, max_iter=1000, random_state=42)\n",
    "\n",
    "# Fit the logistic regression model on the training data (X_train) and target labels (y_train)\n",
    "model.fit(X_train, y_train)"
   ]
  },
  {
   "cell_type": "code",
   "execution_count": 785,
   "id": "c525687c-9114-4f13-9cfb-b35611d09661",
   "metadata": {},
   "outputs": [
    {
     "name": "stdout",
     "output_type": "stream",
     "text": [
      "Manual accuracy: 0.9\n",
      "Shortcut accuracy: 0.9\n"
     ]
    }
   ],
   "source": [
    "# Make predictions on the validation set\n",
    "y_pred = model.predict(X_val)\n",
    "\n",
    "# Create a DataFrame to store predictions and actual values\n",
    "df_pred = pd.DataFrame()\n",
    "df_pred['prediction'] = y_pred\n",
    "df_pred['actual'] = y_val\n",
    "\n",
    "# Check if the predictions are correct\n",
    "df_pred['correct'] = df_pred.prediction == df_pred.actual\n",
    "\n",
    "# Calculate the accuracy manually as the mean of correct predictions\n",
    "manual_accuracy = df_pred.correct.mean()\n",
    "\n",
    "# Display the manual accuracy\n",
    "print(\"Manual accuracy:\", round(manual_accuracy, 2))\n",
    "\n",
    "# Shorter method\n",
    "accuracy = (y_val == y_pred).mean()\n",
    "print(\"Shortcut accuracy:\", round(accuracy, 2))"
   ]
  },
  {
   "cell_type": "code",
   "execution_count": 779,
   "id": "d35ed354-acb5-43eb-9e1d-267cb2895783",
   "metadata": {},
   "outputs": [
    {
     "name": "stdout",
     "output_type": "stream",
     "text": [
      "0.9\n"
     ]
    }
   ],
   "source": [
    "from sklearn.metrics import accuracy_score\n",
    "\n",
    "# Convert y_val to int\n",
    "y_val = y_val.astype(int)\n",
    "\n",
    "# Make predictions on the validation set\n",
    "y_pred = model.predict(X_val)\n",
    "\n",
    "# Calculate accuracy\n",
    "accuracy = accuracy_score(y_val, y_pred)\n",
    "\n",
    "# Round to 2 decimal places\n",
    "accuracy_rounded = round(accuracy, 2)\n",
    "\n",
    "# Print the accuracy\n",
    "print(accuracy_rounded)"
   ]
  },
  {
   "cell_type": "markdown",
   "id": "e9794555-f7d3-4078-9e00-f82de2c8cc17",
   "metadata": {},
   "source": [
    "#### Question 4 - Answer: 9"
   ]
  },
  {
   "cell_type": "markdown",
   "id": "bbe2f772-01fe-4fe0-bece-a4147f597818",
   "metadata": {},
   "source": [
    "### Question 5\n",
    "\n",
    "- Let's find the least useful feature using the feature elimination technique.\n",
    "- Train a model with all these features (using the same parameters as in Q4).\n",
    "- Now exclude each feature from this set and train a model without it. Record the accuracy for each model.\n",
    "- For each feature, calculate the difference between the original accuracy and the accuracy without the feature.\n",
    "\n",
    "Which of following feature has the smallest difference?\n",
    "\n",
    "- age\n",
    "- balance\n",
    "- marital\n",
    "- previous\n",
    "\n",
    "Note: The difference doesn't have to be positive."
   ]
  },
  {
   "cell_type": "code",
   "execution_count": 794,
   "id": "c2dd53d9-6350-4a98-860d-1c525d30d3e5",
   "metadata": {},
   "outputs": [
    {
     "name": "stdout",
     "output_type": "stream",
     "text": [
      "Baseline accuracy: 0.9016\n",
      "Accuracy without age: 0.9004 (diff: 0.0012)\n",
      "Accuracy without balance: 0.9013 (diff: 0.0002)\n",
      "Accuracy without marital: 0.9001 (diff: 0.0014)\n",
      "Accuracy without previous: 0.9012 (diff: 0.0003)\n",
      "\n",
      "The feature with the smallest accuracy difference is: balance\n"
     ]
    }
   ],
   "source": [
    "from sklearn.linear_model import LogisticRegression\n",
    "from sklearn.metrics import accuracy_score\n",
    "import numpy as np\n",
    "\n",
    "# Train a model with all features and calculate the baseline accuracy\n",
    "model = LogisticRegression(solver='liblinear', C=1.0, max_iter=1000, random_state=42)\n",
    "model.fit(X_train, y_train)\n",
    "y_pred = model.predict(X_val)\n",
    "baseline_accuracy = accuracy_score(y_val, y_pred)\n",
    "print(f\"Baseline accuracy: {baseline_accuracy:.4f}\")\n",
    "\n",
    "# List of features to test (the ones in the question)\n",
    "features_to_test = ['age', 'balance', 'marital', 'previous']\n",
    "\n",
    "# Dictionary to store accuracy results\n",
    "accuracy_diffs = {}\n",
    "\n",
    "# Get the feature names from the DictVectorizer\n",
    "feature_names = dv.get_feature_names_out()\n",
    "\n",
    "# Loop through each feature, remove it, and calculate the accuracy\n",
    "for feature in features_to_test:\n",
    "    # Find the feature index in the feature names list (handle prefixes like marital= or balance=)\n",
    "    feature_indices = [i for i, fname in enumerate(feature_names) if feature in fname]\n",
    "    \n",
    "    if len(feature_indices) == 0:\n",
    "        print(f\"Feature {feature} not found in feature names.\")\n",
    "        continue\n",
    "    \n",
    "    # Remove the selected feature from the dataset\n",
    "    X_train_new = np.delete(X_train, feature_indices, axis=1)\n",
    "    X_val_new = np.delete(X_val, feature_indices, axis=1)\n",
    "    \n",
    "    # Train the model without this feature\n",
    "    model.fit(X_train_new, y_train)\n",
    "    y_pred_new = model.predict(X_val_new)\n",
    "    \n",
    "    # Calculate the new accuracy\n",
    "    new_accuracy = accuracy_score(y_val, y_pred_new)\n",
    "    \n",
    "    # Calculate the accuracy difference\n",
    "    accuracy_diff = baseline_accuracy - new_accuracy\n",
    "    accuracy_diffs[feature] = accuracy_diff\n",
    "    \n",
    "    # Print the result for this feature\n",
    "    print(f\"Accuracy without {feature}: {new_accuracy:.4f} (diff: {accuracy_diff:.4f})\")\n",
    "\n",
    "# Find the feature with the smallest difference\n",
    "least_important_feature = min(accuracy_diffs, key=accuracy_diffs.get)\n",
    "print(f\"\\nThe feature with the smallest accuracy difference is: {least_important_feature}\")"
   ]
  },
  {
   "cell_type": "markdown",
   "id": "3219eba6-d9b3-44fb-b543-f01ae55c4147",
   "metadata": {},
   "source": [
    "#### Question 5 - Answer: 'balance'"
   ]
  },
  {
   "cell_type": "markdown",
   "id": "c5900b8a-115d-4e58-a49c-6b65733a48c6",
   "metadata": {},
   "source": [
    "### Question 6\n",
    "\n",
    "- Now let's train a regularized logistic regression.\n",
    "- Let's try the following values of the parameter C: [0.01, 0.1, 1, 10, 100].\n",
    "- Train models using all the features as in Q4.\n",
    "- Calculate the accuracy on the validation dataset and round it to 3 decimal digits.\n",
    "\n",
    "Which of these C leads to the best accuracy on the validation set?\n",
    "\n",
    "- 0.01\n",
    "- 0.1\n",
    "- 1\n",
    "- 10\n",
    "- 100\n",
    "\n",
    "Note: If there are multiple options, select the smallest C."
   ]
  },
  {
   "cell_type": "code",
   "execution_count": 806,
   "id": "2c8321f9-34a6-4583-b15d-a0cbfeec185f",
   "metadata": {},
   "outputs": [
    {
     "name": "stdout",
     "output_type": "stream",
     "text": [
      "Accuracy with C=0.01: 0.898\n",
      "Accuracy with C=0.1: 0.901\n",
      "Accuracy with C=1: 0.902\n",
      "Accuracy with C=10: 0.901\n",
      "Accuracy with C=100: 0.901\n",
      "\n",
      "The best C value is: 1 with accuracy: 0.902\n"
     ]
    }
   ],
   "source": [
    "from sklearn.linear_model import LogisticRegression\n",
    "from sklearn.metrics import accuracy_score\n",
    "\n",
    "# List of C values to try\n",
    "C_values = [0.01, 0.1, 1, 10, 100]\n",
    "\n",
    "# Dictionary to store the accuracy for each C value\n",
    "accuracy_results = {}\n",
    "\n",
    "# Loop through each C value, train the model, and calculate accuracy\n",
    "for C in C_values:\n",
    "    # Train the logistic regression model with the given C value\n",
    "    model = LogisticRegression(solver='liblinear', C=C, max_iter=1000, random_state=42)\n",
    "    model.fit(X_train, y_train)\n",
    "    \n",
    "    # Make predictions on the validation set\n",
    "    y_pred = model.predict(X_val)\n",
    "    \n",
    "    # Calculate accuracy\n",
    "    accuracy = accuracy_score(y_val, y_pred)\n",
    "    \n",
    "    # Store the accuracy rounded to 3 decimal places\n",
    "    accuracy_results[C] = round(accuracy, 3)\n",
    "    \n",
    "    # Print the accuracy for each C\n",
    "    print(f\"Accuracy with C={C}: {accuracy:.3f}\")\n",
    "\n",
    "# Find the best C value (smallest C with the highest accuracy)\n",
    "best_C = max(accuracy_results, key=lambda x: (accuracy_results[x], -x))\n",
    "\n",
    "print(f\"\\nThe best C value is: {best_C} with accuracy: {accuracy_results[best_C]:.3f}\")"
   ]
  },
  {
   "cell_type": "markdown",
   "id": "4dd9b014-167b-4087-b32a-510097120bc0",
   "metadata": {},
   "source": [
    "#### Question 6 - Answer: 1"
   ]
  }
 ],
 "metadata": {
  "kernelspec": {
   "display_name": "Python 3 (ipykernel)",
   "language": "python",
   "name": "python3"
  },
  "language_info": {
   "codemirror_mode": {
    "name": "ipython",
    "version": 3
   },
   "file_extension": ".py",
   "mimetype": "text/x-python",
   "name": "python",
   "nbconvert_exporter": "python",
   "pygments_lexer": "ipython3",
   "version": "3.11.10"
  }
 },
 "nbformat": 4,
 "nbformat_minor": 5
}
