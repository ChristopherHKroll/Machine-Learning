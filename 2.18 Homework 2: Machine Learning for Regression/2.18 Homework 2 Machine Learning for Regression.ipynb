{
 "cells": [
  {
   "cell_type": "markdown",
   "id": "56fc6124",
   "metadata": {},
   "source": [
    "## 2.18 Homework 2: Machine Learning for Regression"
   ]
  },
  {
   "cell_type": "code",
   "execution_count": 228,
   "id": "7a1ca8bb-b67a-40d3-91cb-138ff4766cd5",
   "metadata": {},
   "outputs": [],
   "source": [
    "# Import libraries\n",
    "import requests\n",
    "import pandas as pd\n",
    "import numpy as np\n",
    "import matplotlib.pyplot as plt\n",
    "import seaborn as sns\n",
    "\n",
    "# Allow plotting of all subplots in a jupyter notebook\n",
    "%matplotlib inline"
   ]
  },
  {
   "cell_type": "markdown",
   "id": "88f5e413-ea29-4599-a6a2-d6244f054936",
   "metadata": {},
   "source": [
    "### Dataset"
   ]
  },
  {
   "cell_type": "code",
   "execution_count": 231,
   "id": "deb4e789-e853-438a-8186-593f512719da",
   "metadata": {},
   "outputs": [],
   "source": [
    "# Download the dataset\n",
    "#data = 'https://raw.githubusercontent.com/alexeygrigorev/mlbookcamp-code/master/chapter-02-car-price/data.csv'\n",
    "#response = requests.get(data)\n",
    "\n",
    "# Save file\n",
    "#with open('laptops.csv', 'wb') as file:\n",
    "    #file.write(response.content)\n",
    "#print(\"File downloaded and saved.\")\n",
    "\n",
    "# Read dataset\n",
    "df_laptops = pd.read_csv('laptops.csv')"
   ]
  },
  {
   "cell_type": "markdown",
   "id": "5cc59f08-3da0-4ccf-9bd4-5b6583dbd14c",
   "metadata": {},
   "source": [
    "#### The goal of this homework is to create a regression model for predicting the prices (column 'Final Price')"
   ]
  },
  {
   "cell_type": "markdown",
   "id": "4bfed6e8-366c-468b-9efa-d4a5d80625e2",
   "metadata": {},
   "source": [
    "### Preparing the dataset"
   ]
  },
  {
   "cell_type": "code",
   "execution_count": 235,
   "id": "3bde16b3-381d-446a-9352-2610500dfd48",
   "metadata": {},
   "outputs": [],
   "source": [
    "# Normalize the names of the columns (lower letters for strings, replace blanks with _)\n",
    "df_laptops.columns = df_laptops.columns.str.lower().str.replace(' ', '_')"
   ]
  },
  {
   "cell_type": "code",
   "execution_count": 237,
   "id": "55bbdeec-457a-4a98-81a0-f035b1676ee9",
   "metadata": {
    "scrolled": true
   },
   "outputs": [
    {
     "name": "stdout",
     "output_type": "stream",
     "text": [
      "                                              laptop status   brand  \\\n",
      "0  ASUS ExpertBook B1 B1502CBA-EJ0436X Intel Core...    New    Asus   \n",
      "1  Alurin Go Start Intel Celeron N4020/8GB/256GB ...    New  Alurin   \n",
      "2  ASUS ExpertBook B1 B1502CBA-EJ0424X Intel Core...    New    Asus   \n",
      "3  MSI Katana GF66 12UC-082XES Intel Core i7-1270...    New     MSI   \n",
      "4  HP 15S-FQ5085NS Intel Core i5-1235U/16GB/512GB...    New      HP   \n",
      "\n",
      "        model            cpu  ram  storage storage_type       gpu  screen  \\\n",
      "0  ExpertBook  Intel Core i5    8      512          SSD       NaN    15.6   \n",
      "1          Go  Intel Celeron    8      256          SSD       NaN    15.6   \n",
      "2  ExpertBook  Intel Core i3    8      256          SSD       NaN    15.6   \n",
      "3      Katana  Intel Core i7   16     1000          SSD  RTX 3050    15.6   \n",
      "4         15S  Intel Core i5   16      512          SSD       NaN    15.6   \n",
      "\n",
      "  touch  final_price  \n",
      "0    No      1009.00  \n",
      "1    No       299.00  \n",
      "2    No       789.00  \n",
      "3    No      1199.00  \n",
      "4    No       669.01  \n"
     ]
    }
   ],
   "source": [
    "# Print first five records of the dataset\n",
    "print(df_laptops.head())"
   ]
  },
  {
   "cell_type": "markdown",
   "id": "5bb3554f-4f1f-451a-a46b-2f2ca4dd19a2",
   "metadata": {},
   "source": [
    "#### Next, use only the following columns:\n",
    "- 'ram',\n",
    "- 'storage',\n",
    "- 'screen',\n",
    "- 'final_price'"
   ]
  },
  {
   "cell_type": "code",
   "execution_count": 240,
   "id": "38723fca-5c11-45d5-b923-891f33f6dc30",
   "metadata": {},
   "outputs": [
    {
     "name": "stdout",
     "output_type": "stream",
     "text": [
      "   ram  storage  screen  final_price\n",
      "0    8      512    15.6      1009.00\n",
      "1    8      256    15.6       299.00\n",
      "2    8      256    15.6       789.00\n",
      "3   16     1000    15.6      1199.00\n",
      "4   16      512    15.6       669.01\n"
     ]
    }
   ],
   "source": [
    "# Filter dataframe by selected columns\n",
    "df_laptops_filt = df_laptops[['ram', 'storage', 'screen', 'final_price']]\n",
    "print(df_laptops_filt.head())"
   ]
  },
  {
   "cell_type": "markdown",
   "id": "ae18042b-9f57-4f90-b99b-e8742ccfeb78",
   "metadata": {},
   "source": [
    "### EDA\n",
    "- Look at the final_price variable. Does it have a long tail?"
   ]
  },
  {
   "cell_type": "code",
   "execution_count": 243,
   "id": "69d2c7cd-df3c-4b41-8c6c-1413703b281e",
   "metadata": {},
   "outputs": [
    {
     "data": {
      "text/plain": [
       "<Axes: xlabel='final_price', ylabel='Count'>"
      ]
     },
     "execution_count": 243,
     "metadata": {},
     "output_type": "execute_result"
    },
    {
     "data": {
      "image/png": "[encoded data removed]",
      "text/plain": [
       "<Figure size 640x480 with 1 Axes>"
      ]
     },
     "metadata": {},
     "output_type": "display_data"
    }
   ],
   "source": [
    "# Plot a histogram of final_price variable\n",
    "sns.histplot(df_laptops_filt.final_price, bins=50)"
   ]
  },
  {
   "cell_type": "markdown",
   "id": "c899fb50-5e53-4033-a3d7-b27d79d05b7a",
   "metadata": {},
   "source": [
    "#### EDA - Answer: Yes, it has a long tail to some degree. The variable 'final_price' presents a right skewed distribution."
   ]
  },
  {
   "cell_type": "markdown",
   "id": "bd9a37fc",
   "metadata": {},
   "source": [
    "### Question 1\n",
    "\n",
    "There's one column with missing values. What is it?\n",
    "\n",
    "- 'ram',\n",
    "- 'storage',\n",
    "- 'screen',\n",
    "- 'final_price'"
   ]
  },
  {
   "cell_type": "code",
   "execution_count": 247,
   "id": "bb9edb58-ff2c-4969-8470-c80cc9e2c594",
   "metadata": {},
   "outputs": [
    {
     "name": "stdout",
     "output_type": "stream",
     "text": [
      "screen\n",
      "ram            0\n",
      "storage        0\n",
      "screen         4\n",
      "final_price    0\n",
      "dtype: int64\n"
     ]
    }
   ],
   "source": [
    "# Identify columns with missings\n",
    "df_laptops_filt_col_null = df_laptops_filt.isnull().any()\n",
    "df_laptops_filt_col_true_null = df_laptops_filt_col_null[df_laptops_filt_col_null == True].index[0]\n",
    "print(df_laptops_filt_col_true_null)\n",
    "\n",
    "# Alternative for doublecheck\n",
    "print(df_laptops_filt.isnull().sum())"
   ]
  },
  {
   "cell_type": "markdown",
   "id": "ee429504-24a5-4ae8-9117-b821602ebadd",
   "metadata": {},
   "source": [
    "#### Question 1 - Answer: 'screen'"
   ]
  },
  {
   "cell_type": "markdown",
   "id": "2fe8121c-02bb-427c-a548-709724bfdd4f",
   "metadata": {},
   "source": [
    "### Question 2\n",
    "\n",
    "What's the median (50% percentile) for variable 'ram'?"
   ]
  },
  {
   "cell_type": "code",
   "execution_count": 251,
   "id": "c4d1f2a8-bca8-440e-9b8e-a326d712dcb5",
   "metadata": {},
   "outputs": [
    {
     "data": {
      "text/plain": [
       "ram    16.0\n",
       "dtype: float64"
      ]
     },
     "execution_count": 251,
     "metadata": {},
     "output_type": "execute_result"
    }
   ],
   "source": [
    "# Select 'ram' column in dataset and colculate the median\n",
    "df_laptops_filt[['ram']].median()"
   ]
  },
  {
   "cell_type": "markdown",
   "id": "5015a6a9-5e13-43e6-bd9e-2cfb0a14c28a",
   "metadata": {},
   "source": [
    "#### Question 2 - Answer: 16"
   ]
  },
  {
   "cell_type": "markdown",
   "id": "504a8970-0fb7-4085-9941-954ee41d6dd4",
   "metadata": {},
   "source": [
    "### Prepare and split the dataset\n",
    "\n",
    "- Shuffle the dataset (the filtered one you created above), use seed 42.\n",
    "- Split your data in train/val/test sets, with 60%/20%/20% distribution.\n",
    "\n",
    "Use the same code as in the lectures."
   ]
  },
  {
   "cell_type": "code",
   "execution_count": 255,
   "id": "5b606a38-11e5-4eef-8722-34ebcc49d0de",
   "metadata": {},
   "outputs": [
    {
     "name": "stdout",
     "output_type": "stream",
     "text": [
      "2160\n",
      "[   0    1    2 ... 2157 2158 2159]\n",
      "[2079  668 2073 ... 1130 1294  860]\n"
     ]
    }
   ],
   "source": [
    "# Identify the number of records in the dataset\n",
    "n = len(df_laptops_filt)\n",
    "print(n)\n",
    "\n",
    "# Build an artificial second index 'idx' for shuffeling the dataset\n",
    "idx = np.arange(n)\n",
    "print(idx)\n",
    "\n",
    "# Shuffle the artificial index 'idx' with seed 42\n",
    "np.random.seed(42)\n",
    "np.random.shuffle(idx)\n",
    "print(idx)"
   ]
  },
  {
   "cell_type": "code",
   "execution_count": 257,
   "id": "c9235edb-6a9a-4031-aa1b-e7221b7ac3bc",
   "metadata": {},
   "outputs": [
    {
     "name": "stdout",
     "output_type": "stream",
     "text": [
      "2160 2160\n",
      "432 432 1296\n"
     ]
    }
   ],
   "source": [
    "# Identify the length of the dataframe and the split indices using a 60%/20%/20% distribution\n",
    "n = len(df_laptops_filt)\n",
    "\n",
    "n_val = int(n * 0.2)\n",
    "n_test = int(n * 0.2)\n",
    "n_train = n - n_val - n_test\n",
    "print(n, n_val + n_test + n_train)\n",
    "print(n_val, n_test, n_train)"
   ]
  },
  {
   "cell_type": "code",
   "execution_count": 259,
   "id": "68de85db-36f5-4b14-a246-5d7ed5673e43",
   "metadata": {},
   "outputs": [
    {
     "name": "stdout",
     "output_type": "stream",
     "text": [
      "   ram  storage  screen  final_price\n",
      "0   32     1000    15.6      1123.29\n",
      "1    4       64    14.1       201.05\n",
      "2   32     1000    14.0       997.74\n",
      "3   16      512    13.3      1016.00\n",
      "4   32     1000    16.0      2739.00\n",
      "   ram  storage  screen  final_price\n",
      "0   32     1000    16.0      2599.00\n",
      "1   16      512    15.6       999.00\n",
      "2   12      512    15.6       477.28\n",
      "3    8      256    13.6      1519.00\n",
      "4    8      512    15.6       402.99\n",
      "   ram  storage  screen  final_price\n",
      "0   32     1000    15.6      4805.65\n",
      "1   16      512    13.0      2189.00\n",
      "2   16      512    15.6      1349.00\n",
      "3   16      512    15.0      2175.83\n",
      "4   16     1000    15.6      1248.59\n"
     ]
    }
   ],
   "source": [
    "# Split the dataset into training, validation and test dataset using above indices\n",
    "df_laptops_filt_train = df_laptops_filt.iloc[idx[:n_train]]\n",
    "df_laptops_filt_val = df_laptops_filt.iloc[idx[n_train:n_train+n_val]]\n",
    "df_laptops_filt_test = df_laptops_filt.iloc[idx[n_train+n_val:]]\n",
    "\n",
    "# Resetting the index of each dataset\n",
    "df_laptops_filt_train = df_laptops_filt_train.reset_index(drop=True)\n",
    "df_laptops_filt_val = df_laptops_filt_val.reset_index(drop=True)\n",
    "df_laptops_filt_test = df_laptops_filt_test.reset_index(drop=True)\n",
    "\n",
    "print(df_laptops_filt_train.head())\n",
    "print(df_laptops_filt_val.head())\n",
    "print(df_laptops_filt_test.head())"
   ]
  },
  {
   "cell_type": "markdown",
   "id": "258d7ff2-b08c-4e6f-a32f-5134d2325d57",
   "metadata": {},
   "source": [
    "### Question 3\n",
    "\n",
    "- We need to deal with missing values for the column from Q1.\n",
    "- We have two options: fill it with 0 or with the mean of this variable.\n",
    "- Try both options. For each, train a linear regression model without regularization using the code from the lessons.\n",
    "- For computing the mean, use the training only!\n",
    "- Use the validation dataset to evaluate the models and compare the RMSE of each option.\n",
    "- Round the RMSE scores to 2 decimal digits using round(score, 2)\n",
    "- Which option gives better RMSE?\n",
    "\n",
    "##### Options:\n",
    "\n",
    "- With 0\n",
    "- With mean\n",
    "- Both are equally good"
   ]
  },
  {
   "cell_type": "code",
   "execution_count": 272,
   "id": "8ec64d11-7667-417f-b3a6-d9f1d66607f0",
   "metadata": {},
   "outputs": [
    {
     "data": {
      "text/plain": [
       "<Axes: xlabel='final_price', ylabel='Count'>"
      ]
     },
     "execution_count": 272,
     "metadata": {},
     "output_type": "execute_result"
    },
    {
     "data": {
      "image/png": "[encoded data removed]",
      "text/plain": [
       "<Figure size 640x480 with 1 Axes>"
      ]
     },
     "metadata": {},
     "output_type": "display_data"
    }
   ],
   "source": [
    "# Apply logarithmic function to target variable 'final_price' (because of long tailed distribution)\n",
    "df_laptops_filt_train['final_price'] = np.log1p(df_laptops_filt_train.final_price.values)\n",
    "df_laptops_filt_val['final_price'] = np.log1p(df_laptops_filt_val.final_price.values)\n",
    "df_laptops_filt_test['final_price'] = np.log1p(df_laptops_filt_test.final_price.values)\n",
    "\n",
    "sns.histplot(df_laptops_filt_train.final_price, bins=50)\n",
    "sns.histplot(df_laptops_filt_val.final_price, bins=50)\n",
    "sns.histplot(df_laptops_filt_test.final_price, bins=50)"
   ]
  },
  {
   "cell_type": "code",
   "execution_count": 282,
   "id": "899e6fb9-3251-4e13-b2ae-0339797df17e",
   "metadata": {},
   "outputs": [],
   "source": [
    "# Zeros instead of missings\n",
    "# Split datasets with missing values filled with zeros\n",
    "df_laptops_filt_train_zero = df_laptops_filt_train.fillna(0)\n",
    "df_laptops_filt_val_zero = df_laptops_filt_val.fillna(0)\n",
    "df_laptops_filt_test_zero = df_laptops_filt_test.fillna(0)"
   ]
  },
  {
   "cell_type": "code",
   "execution_count": 284,
   "id": "cdcfbcd6-1f4e-4e9f-afee-1d9e60fb82e3",
   "metadata": {},
   "outputs": [],
   "source": [
    "# Mean instead of missings\n",
    "# Split datasets with missings filled with column means from the training dataset only\n",
    "df_laptops_filt_train_mean = df_laptops_filt_train.fillna(df_laptops_filt_train.mean())\n",
    "df_laptops_filt_val_mean = df_laptops_filt_val.fillna(df_laptops_filt_train.mean())\n",
    "df_laptops_filt_test_mean = df_laptops_filt_test.fillna(df_laptops_filt_train.mean())"
   ]
  },
  {
   "cell_type": "code",
   "execution_count": 290,
   "id": "6fcc72ae-73e5-4b70-81bb-bb124d363b9b",
   "metadata": {},
   "outputs": [],
   "source": [
    "# Zeros instead of missings\n",
    "# Define features X und target variable y for train data\n",
    "X_train_zero = df_laptops_filt_train_zero.drop('final_price', axis=1).values  # All columns except 'final_price'\n",
    "y_train_zero = df_laptops_filt_train_zero['final_price'].values  # Only the target variable 'final_price'\n",
    "\n",
    "# Define features X und target variable y for validation data\n",
    "X_val_zero = df_laptops_filt_val_zero.drop('final_price', axis=1).values  # All columns except 'final_price'\n",
    "y_val_zero = df_laptops_filt_val_zero['final_price'].values  # Only the target variable 'final_price'\n",
    "\n",
    "# Define features X und target variable y for test data\n",
    "X_test_zero = df_laptops_filt_test_zero.drop('final_price', axis=1).values  # All columns except 'final_price'\n",
    "y_test_zero = df_laptops_filt_test_zero['final_price'].values  # Only the target variable 'final_price'"
   ]
  },
  {
   "cell_type": "code",
   "execution_count": 292,
   "id": "725170af-a387-4ad2-9926-4953b92c266a",
   "metadata": {},
   "outputs": [],
   "source": [
    "# Mean instead of missings\n",
    "# Define features X und target variable y for train data\n",
    "X_train_mean = df_laptops_filt_train_mean.drop('final_price', axis=1).values   # All columns except 'final_price'\n",
    "y_train_mean = df_laptops_filt_train_mean['final_price'].values   # Only the target variable 'final_price'\n",
    "\n",
    "# Define features X und target variable y for validation data\n",
    "X_val_mean = df_laptops_filt_val_mean.drop('final_price', axis=1).values   # All columns except 'final_price'\n",
    "y_val_mean = df_laptops_filt_val_mean['final_price'].values   # Only the target variable 'final_price'\n",
    "\n",
    "# Define features X und target variable y for test data\n",
    "X_test_mean = df_laptops_filt_test_mean.drop('final_price', axis=1).values   # All columns except 'final_price'\n",
    "y_test_mean = df_laptops_filt_test_mean['final_price'].values   # Only the target variable 'final_price'"
   ]
  },
  {
   "cell_type": "code",
   "execution_count": 316,
   "id": "2ab6b3d9-2233-418d-9d30-4ce979f7ff85",
   "metadata": {},
   "outputs": [
    {
     "name": "stdout",
     "output_type": "stream",
     "text": [
      "2.0447793894206843 [ 3.20718936e-03  8.29475488e-05 -4.68031495e-03]\n",
      "2.0612234353094694 [ 3.23237390e-03  8.37182321e-05 -5.81039705e-03]\n",
      "Predictions for training data (Zeroes): [2.15734408 1.99692435 2.16483259 ... 2.06555065 2.07303915 2.07303915] \n",
      "\n",
      "Predictions for validation data (Zeroes): [2.15547196 2.06555065 2.05272189 2.02801919 2.03989314 2.07303915\n",
      " 2.09807252 2.06555065 2.01865856 2.14938755 2.05065786 2.10415693\n",
      " 2.03989314 2.07631538 2.04638627 2.06555065 1.99692435 2.01865856\n",
      " 2.11351756 2.01865856 2.01865856 2.10602905 2.02614707 2.01865856\n",
      " 2.14938755 2.01865856 2.02614707 2.10602905 2.11351756 2.02614707\n",
      " 2.14938755 2.15547196 2.02942329 2.03989314 2.06555065 2.18710448\n",
      " 2.06555065 2.15734408 2.10415693 2.10602905 2.1904901  2.09807252\n",
      " 2.06555065 2.01865856 2.06555065 2.0319366  2.10602905 2.15547196\n",
      " 2.07303915 2.10322087 2.03989314 2.01865856 2.06555065 2.07303915\n",
      " 2.03989314 2.03989314 2.06555065 2.06555065 2.11351756 2.07303915\n",
      " 2.15734408 2.03989314 2.07303915 2.06555065 2.04738164 2.11679378\n",
      " 2.02614707 2.00597082 2.05272189 2.01865856 2.01865856 2.01865856\n",
      " 2.10602905 2.06555065 2.03989314 2.03322433 2.04738164 2.05759412\n",
      " 2.01865856 2.14938755 2.00756682 2.03989314 2.06555065 2.06555065\n",
      " 2.06321049 2.11351756 2.06555065 2.03989314 2.07303915 2.02614707\n",
      " 2.01865856 2.06321049 2.03989314 2.01393378 2.15079164 2.07303915\n",
      " 2.10602905 2.07303915 2.11351756 2.15734408 2.06555065 2.02614707\n",
      " 2.03989314 2.03683373 2.06555065 2.06555065 2.02614707 2.16389653\n",
      " 2.03989314 2.15500393 2.06555065 2.01865856 2.15547196 2.15547196\n",
      " 2.00582981 2.04129723 2.06555065 2.01865856 2.09807252 2.03355751\n",
      " 1.99521252 2.04738164 2.06274246 2.02942329 2.16483259 2.09807252\n",
      " 2.09807252 2.03989314 2.03989314 2.05759412 2.10602905 2.02942329\n",
      " 2.01865856 2.06555065 2.06555065 2.018806   2.06555065 2.05065786\n",
      " 2.01552978 2.02614707 2.03989314 2.01865856 2.07303915 2.01865856\n",
      " 2.03989314 2.16764078 2.11351756 2.10602905 2.06648671 2.07303915\n",
      " 2.01865856 2.07631538 2.06321049 2.03989314 2.03989314 2.03989314\n",
      " 2.04738164 2.15547196 2.16483259 2.0550808  2.01865856 2.10415693\n",
      " 2.10602905 2.06555065 2.15734408 2.07631538 2.01865856 2.03989314\n",
      " 2.01865856 2.15734408 2.06555065 2.14938755 2.10602905 2.06555065\n",
      " 2.03989314 2.11351756 2.15079164 2.06555065 2.03989314 2.03989314\n",
      " 2.10602905 2.03148732 2.0341036  2.06367852 2.07303915 2.09807252\n",
      " 2.018806   2.15734408 2.01865856 2.11819787 2.07631538 2.1125815\n",
      " 2.10415693 2.02614707 2.05065786 2.06321049 2.02942329 2.02614707\n",
      " 2.06555065 2.07303915 2.02614707 1.99521252 2.03989314 2.15734408\n",
      " 2.06555065 2.00270102 2.15734408 2.06555065 2.15547196 2.06555065\n",
      " 2.15547196 2.00270102 2.04738164 2.01865856 2.06555065 2.06455528\n",
      " 2.11499355 2.16483259 2.14938755 2.06555065 2.10602905 2.15734408\n",
      " 2.10322087 2.09807252 2.06555065 2.07303915 2.00597082 2.06555065\n",
      " 2.06555065 1.99521252 2.10415693 2.00597724 2.06835884 2.10602905\n",
      " 2.03989314 2.03989314 2.01865856 2.07631538 2.06367852 2.03989314\n",
      " 2.11632575 2.01865856 2.01865856 2.15734408 2.05065786 2.03989314\n",
      " 2.01865856 2.04738164 2.07631538 1.99473806 2.07303915 2.01865856\n",
      " 2.06321049 2.15734408 2.01865856 2.018806   2.15547196 2.02614707\n",
      " 2.01865856 2.018806   2.03989314 2.14938755 2.03989314 2.03989314\n",
      " 2.03802101 2.03989314 2.01865856 2.16810881 2.13856356 2.03989314\n",
      " 2.06555065 2.01659453 2.01865856 2.06555065 2.09807252 2.15547196\n",
      " 2.02614707 2.06555065 2.03989314 2.01865856 2.01865856 2.01865856\n",
      " 2.03989314 2.06555065 2.06455528 2.10602905 2.02614707 2.00597082\n",
      " 2.02942329 2.03989314 2.01865856 2.07303915 2.07303915 2.01865856\n",
      " 2.07303915 2.06555065 2.10415693 2.07303915 2.07303915 2.33496516\n",
      " 2.07204378 2.03802101 2.09807252 2.01865856 2.05759412 2.16389653\n",
      " 2.15734408 2.06455528 2.06555065 2.01786994 2.01865856 2.10602905\n",
      " 2.15547196 2.06321049 2.09807252 2.03989314 2.07303915 2.06367852\n",
      " 2.11351756 2.06555065 2.02614707 2.04738164 2.11686568 2.06555065\n",
      " 2.10602905 2.03802101 2.03989314 2.0319366  2.06555065 2.03989314\n",
      " 2.10602905 2.03989314 2.04738164 2.14938755 2.06555065 2.0497218\n",
      " 2.02942329 2.02614707 2.04738164 2.10415693 2.10602905 2.02614707\n",
      " 2.06555065 2.14938755 2.15734408 2.11632575 2.03989314 2.06555065\n",
      " 2.14938755 2.01349736 2.14938755 2.02146675 2.15079164 2.14938755\n",
      " 2.06321049 2.15734408 2.06555065 2.11351756 2.01865856 2.06555065\n",
      " 2.06555065 2.07631538 2.03989314 2.01865856 2.02942329 2.06555065\n",
      " 2.15734408 2.15734408 2.04129723 2.07303915 2.06555065 2.06321049\n",
      " 2.06555065 2.23373919 2.02942329 2.05461277 2.06367852 2.06555065\n",
      " 2.07303915 2.05180458 2.02614707 2.07303915 2.06321049 2.06367852\n",
      " 2.15547196 2.04270133 2.11585772 2.07631538 2.07303915 2.11351756\n",
      " 2.11351756 2.10415693 2.01552978 2.01865856 2.07204378 2.07303915\n",
      " 2.04738164 2.09807252 2.07303915 2.06555065 2.03989314 2.01865856\n",
      " 2.03989314 2.03989314 2.02848722 2.01865856 2.06555065 2.01865856\n",
      " 2.14938755 2.07631538 2.33496516 2.07303915 2.10415693 2.03989314\n",
      " 2.16483259 2.01865856 2.07303915 2.03989314 2.06555065 2.03989314\n",
      " 2.02614707 2.07303915 2.06555065 2.03989314 2.06367852 2.07303915\n",
      " 2.06555065 2.0202101  2.02942329 2.04738164 2.07303915 1.99739238] \n",
      "\n",
      "Predictions for training data (Mean): [2.15773544 1.9975843  2.16703207 ... 2.06516296 2.07445959 2.07445959] \n",
      "\n",
      "Predictions for validation data (Mean): [2.15541128 2.06516296 2.05223346 2.02949289 2.03930397 2.07445959\n",
      " 2.09613978 2.06516296 2.0178721  2.14785776 2.05266788 2.1036933\n",
      " 2.03930397 2.07852687 2.04759598 2.06516296 1.9975843  2.0178721\n",
      " 2.11531409 2.0178721  2.0178721  2.10601746 2.02716874 2.0178721\n",
      " 2.14785776 2.0178721  2.02716874 2.10601746 2.11531409 2.02716874\n",
      " 2.14785776 2.15541128 2.03123601 2.03930397 2.06516296 2.18741153\n",
      " 2.06516296 2.15773544 2.1036933  2.10601746 2.19289106 2.09613978\n",
      " 2.06516296 2.0178721  2.06516296 2.02942629 2.10601746 2.15541128\n",
      " 2.07445959 2.10253122 2.03930397 2.0178721  2.06516296 2.07445959\n",
      " 2.03930397 2.03930397 2.06516296 2.06516296 2.11531409 2.07445959\n",
      " 2.15773544 2.03930397 2.07445959 2.06516296 2.0486006  2.11938137\n",
      " 2.02716874 2.00943131 2.05223346 2.0178721  2.0178721  2.0178721\n",
      " 2.10601746 2.06516296 2.03930397 2.03427484 2.0486006  2.05528528\n",
      " 2.0178721  2.14785776 2.00841585 2.03930397 2.06516296 2.06516296\n",
      " 2.06225776 2.11531409 2.06516296 2.03930397 2.07445959 2.02716874\n",
      " 2.0178721  2.06225776 2.03930397 2.01746826 2.14960088 2.07445959\n",
      " 2.10601746 2.07445959 2.11531409 2.15773544 2.06516296 2.02716874\n",
      " 2.03930397 2.03873377 2.06516296 2.06516296 2.02716874 2.16586999\n",
      " 2.03930397 2.15483024 2.06516296 2.0178721  2.15541128 2.15541128\n",
      " 2.0049426  2.04104709 2.06516296 2.0178721  2.09613978 2.03466649\n",
      " 1.99422667 2.0486006  2.06167672 2.03123601 2.16703207 2.09613978\n",
      " 2.09613978 2.03930397 2.03930397 2.05528528 2.10601746 2.03123601\n",
      " 2.0178721  2.06516296 2.06516296 2.02052008 2.06516296 2.05266788\n",
      " 2.0164528  2.02716874 2.03930397 2.0178721  2.07445959 2.0178721\n",
      " 2.03930397 2.17051831 2.11531409 2.10601746 2.06632504 2.07445959\n",
      " 2.0178721  2.07852687 2.06225776 2.03930397 2.03930397 2.03930397\n",
      " 2.0486006  2.15541128 2.16703207 2.057095   2.0178721  2.1036933\n",
      " 2.10601746 2.06516296 2.15773544 2.07852687 2.0178721  2.03930397\n",
      " 2.0178721  2.15773544 2.06516296 2.14785776 2.10601746 2.06516296\n",
      " 2.03930397 2.11531409 2.14960088 2.06516296 2.03930397 2.03930397\n",
      " 2.10601746 2.0308016  2.03704641 2.0628388  2.07445959 2.09613978\n",
      " 2.02052008 2.15773544 2.0178721  2.12112449 2.07852687 2.11415201\n",
      " 2.1036933  2.02716874 2.05266788 2.06225776 2.03123601 2.02716874\n",
      " 2.06516296 2.07445959 2.02716874 1.99422667 2.03930397 2.15773544\n",
      " 2.06516296 2.00352331 2.15773544 2.06516296 2.15541128 2.06516296\n",
      " 2.15541128 2.00352331 2.0486006  2.0178721  2.06516296 2.06415834\n",
      " 2.11455678 2.16703207 2.14785776 2.06516296 2.10601746 2.15773544\n",
      " 2.10253122 2.09613978 2.06516296 2.07445959 2.00943131 2.06516296\n",
      " 2.06516296 1.99422667 2.1036933  2.00759058 2.0686492  2.10601746\n",
      " 2.03930397 2.03930397 2.0178721  2.07852687 2.0628388  2.03930397\n",
      " 2.11880033 2.0178721  2.0178721  2.15773544 2.05266788 2.03930397\n",
      " 2.0178721  2.0486006  2.07852687 1.99548636 2.07445959 2.0178721\n",
      " 2.06225776 2.15773544 2.0178721  2.02052008 2.15541128 2.02716874\n",
      " 2.0178721  2.02052008 2.03930397 2.14785776 2.03930397 2.03930397\n",
      " 2.03697981 2.03930397 2.0178721  2.17109935 2.067699   2.03930397\n",
      " 2.06516296 2.01830652 2.0178721  2.06516296 2.09613978 2.15541128\n",
      " 2.02716874 2.06516296 2.03930397 2.0178721  2.0178721  2.0178721\n",
      " 2.03930397 2.06516296 2.06415834 2.10601746 2.02716874 2.00943131\n",
      " 2.03123601 2.03930397 2.0178721  2.07445959 2.07445959 2.0178721\n",
      " 2.07445959 2.06516296 2.1036933  2.07445959 2.07445959 2.33501196\n",
      " 2.07345498 2.03697981 2.09613978 2.0178721  2.05528528 2.16586999\n",
      " 2.15773544 2.06415834 2.06516296 2.019358   2.0178721  2.10601746\n",
      " 2.15541128 2.06225776 2.09613978 2.03930397 2.07445959 2.0628388\n",
      " 2.11531409 2.06516296 2.02716874 2.0486006  2.11688094 2.06516296\n",
      " 2.10601746 2.03697981 2.03930397 2.02942629 2.06516296 2.03930397\n",
      " 2.10601746 2.03930397 2.0486006  2.14785776 2.06516296 2.0515058\n",
      " 2.03123601 2.02716874 2.0486006  2.1036933  2.10601746 2.02716874\n",
      " 2.06516296 2.14785776 2.15773544 2.11880033 2.03930397 2.06516296\n",
      " 2.14785776 2.01516211 2.14785776 2.02135834 2.14960088 2.14785776\n",
      " 2.06225776 2.15773544 2.06516296 2.11531409 2.0178721  2.06516296\n",
      " 2.06516296 2.07852687 2.03930397 2.0178721  2.03123601 2.06516296\n",
      " 2.15773544 2.15773544 2.04104709 2.07445959 2.06516296 2.06225776\n",
      " 2.06516296 2.23331911 2.03123601 2.05651396 2.0628388  2.06516296\n",
      " 2.07445959 2.05302773 2.02716874 2.07445959 2.06225776 2.0628388\n",
      " 2.15541128 2.04279021 2.11821929 2.07852687 2.07445959 2.11531409\n",
      " 2.11531409 2.1036933  2.0164528  2.0178721  2.07345498 2.07445959\n",
      " 2.0486006  2.09613978 2.07445959 2.06516296 2.03930397 2.0178721\n",
      " 2.03930397 2.03930397 2.03007393 2.0178721  2.06516296 2.0178721\n",
      " 2.14785776 2.07852687 2.33501196 2.07445959 2.1036933  2.03930397\n",
      " 2.16703207 2.0178721  2.07445959 2.03930397 2.06516296 2.03930397\n",
      " 2.02716874 2.07445959 2.06516296 2.03930397 2.0628388  2.07445959\n",
      " 2.06516296 2.0222632  2.03123601 2.0486006  2.07445959 1.99816534]\n"
     ]
    }
   ],
   "source": [
    "# Linear regression function\n",
    "def train_linear_regression(X, y):\n",
    "    ones = np.ones(X.shape[0])  # Add a column of ones for the bias term\n",
    "    X = np.column_stack([ones, X])  # Combine ones with features\n",
    "    \n",
    "    XTX = X.T.dot(X)  # Compute X^T * X\n",
    "    XTX_inv = np.linalg.inv(XTX)  # Invert X^T * X\n",
    "    w_full = XTX_inv.dot(X.T).dot(y)  # Compute the weights\n",
    "    \n",
    "    # The bias term w0 ist the first element, the other elements are the weights for the features\n",
    "    return w_full[0], w_full[1:]\n",
    "\n",
    "# Zeros instead of missings\n",
    "# Train the lineare regression model\n",
    "w0_zero, w_zero = train_linear_regression(X_train_zero, y_train_zero)\n",
    "print(w0_zero, w_zero)\n",
    "\n",
    "# Mean instead of missings\n",
    "# Train the lineare regression model\n",
    "w0_mean, w_mean = train_linear_regression(X_train_mean, y_train_mean)\n",
    "print(w0_mean, w_mean)\n",
    "\n",
    "# Calculate the predictions for Zero-Model\n",
    "y_train_pred_zero = w0_zero + X_train_zero.dot(w_zero)\n",
    "y_val_pred_zero = w0_zero + X_val_zero.dot(w_zero)\n",
    "\n",
    "# Calculate the predictions for Mean-Model\n",
    "y_train_pred_mean = w0_mean + X_train_mean.dot(w_mean)\n",
    "y_val_pred_mean = w0_mean + X_val_mean.dot(w_mean)\n",
    "\n",
    "# Show predictions\n",
    "print(\"Predictions for training data (Zeroes):\", y_train_pred_zero, \"\\n\")\n",
    "print(\"Predictions for validation data (Zeroes):\", y_val_pred_zero, \"\\n\")\n",
    "print(\"Predictions for training data (Mean):\", y_train_pred_mean, \"\\n\")\n",
    "print(\"Predictions for validation data (Mean):\", y_val_pred_mean)"
   ]
  },
  {
   "cell_type": "code",
   "execution_count": 318,
   "id": "82dc03d3-21e7-42d2-b0cc-f0e7a6a712f3",
   "metadata": {},
   "outputs": [],
   "source": [
    "# Define the RMSE function\n",
    "def rmse(y, y_pred):\n",
    "    se = (y - y_pred) ** 2  # Compute the square error\n",
    "    mse = se.mean()         # Compute the mean square error\n",
    "    return np.sqrt(mse)      # RMSE as square root of MSE"
   ]
  },
  {
   "cell_type": "code",
   "execution_count": 324,
   "id": "65541a9f-5d7b-45a1-9487-e9d6ec566b93",
   "metadata": {},
   "outputs": [
    {
     "name": "stdout",
     "output_type": "stream",
     "text": [
      "RMSE (Train, Zeroes): 0.06\n",
      "RMSE (Validation, Zeroes): 0.05\n"
     ]
    }
   ],
   "source": [
    "# RMSE for Zero-Model\n",
    "# Calculate the RMSE for training and validation datasets\n",
    "train_rmse_zero = rmse(y_train_zero, y_train_pred_zero)\n",
    "val_rmse_zero = rmse(y_val_zero, y_val_pred_zero)\n",
    "\n",
    "# Round to two decimal digits\n",
    "train_rmse_zero_round = round(train_rmse_zero, 2)\n",
    "val_rmse_zero_round = round(val_rmse_zero, 2)\n",
    "\n",
    "print(\"RMSE (Train, Zeroes):\", train_rmse_zero_round)\n",
    "print(\"RMSE (Validation, Zeroes):\", val_rmse_zero_round)"
   ]
  },
  {
   "cell_type": "code",
   "execution_count": 326,
   "id": "3bff2e46-260f-4e88-aead-5ed79c6658bc",
   "metadata": {},
   "outputs": [
    {
     "name": "stdout",
     "output_type": "stream",
     "text": [
      "RMSE (Train, Means): 0.06\n",
      "RMSE (Validation, Means): 0.06\n"
     ]
    }
   ],
   "source": [
    "# RMSE for Mean-Model\n",
    "# Calculate the RMSE for training and validation datasets\n",
    "train_rmse_mean = rmse(y_train_mean, y_train_pred_mean)\n",
    "val_rmse_mean= rmse(y_val_mean, y_val_pred_mean)\n",
    "\n",
    "# Round to two decimal digits\n",
    "train_rmse_mean_round = round(train_rmse_mean, 2)\n",
    "val_rmse_mean_round = round(val_rmse_mean, 2)\n",
    "\n",
    "print(\"RMSE (Train, Means):\", train_rmse_mean_round)\n",
    "print(\"RMSE (Validation, Means):\", val_rmse_mean_round)"
   ]
  },
  {
   "cell_type": "markdown",
   "id": "54848260",
   "metadata": {},
   "source": [
    "#### Question 3 - Answer: With 0"
   ]
  },
  {
   "cell_type": "markdown",
   "id": "23f0c7c1-07fa-4733-bcf9-306b7a1f0b03",
   "metadata": {},
   "source": [
    "### Question 4\n",
    "\n",
    "- Now let's train a regularized linear regression.\n",
    "- For this question, fill the NAs with 0.\n",
    "- Try different values of r from this list: [0, 0.01, 0.1, 1, 5, 10, 100].\n",
    "- Use RMSE to evaluate the model on the validation dataset.\n",
    "- Round the RMSE scores to 2 decimal digits.\n",
    "- Which r gives the best RMSE?\n",
    "\n",
    "If there are multiple options, select the smallest r.\n",
    "\n",
    "##### Options:\n",
    "- 0\n",
    "- 0.01\n",
    "- 1\n",
    "- 10\n",
    "- 100"
   ]
  },
  {
   "cell_type": "code",
   "execution_count": 343,
   "id": "fa5a36bc-4870-4386-a658-82de8a0a638e",
   "metadata": {},
   "outputs": [
    {
     "name": "stdout",
     "output_type": "stream",
     "text": [
      "Regularization (r=0): w0=-8.761880110341735e-13, RMSE=0.0\n",
      "Regularization (r=0.01): w0=0.00486199839260637, RMSE=0.0\n",
      "Regularization (r=0.1): w0=0.047601228779681204, RMSE=0.0\n",
      "Regularization (r=1): w0=0.393549107736618, RMSE=0.01\n",
      "Regularization (r=5): w0=1.1117217327569415, RMSE=0.03\n",
      "Regularization (r=10): w0=1.4401901272277287, RMSE=0.04\n",
      "Regularization (r=100): w0=1.959688758942845, RMSE=0.05\n"
     ]
    }
   ],
   "source": [
    "# Define the function for regularized linear regression (Ridge Regression)\n",
    "def train_linear_regression_reg(X, y, r=0.0):\n",
    "    ones = np.ones(X.shape[0])  # Add a column of ones for the bias term\n",
    "    X = np.column_stack([ones, X])  # Combine ones with features\n",
    "\n",
    "    XTX = X.T.dot(X)  # Compute X^T * X\n",
    "    reg_matrix = r * np.eye(XTX.shape[0])  # Create the regularization matrix (L2 regularization)\n",
    "    reg_matrix[0, 0] = 0  # The bias term (w0) is not regularized\n",
    "\n",
    "    XTX_inv = np.linalg.inv(XTX + reg_matrix)  # Invert (X^T * X + regularization matrix)\n",
    "    w_full = XTX_inv.dot(X.T).dot(y)  # Compute the weights\n",
    "\n",
    "    return w_full[0], w_full[1:]\n",
    "\n",
    "# Test regularization with different values of r\n",
    "for r in [0, 0.01, 0.1, 1, 5, 10, 100]:\n",
    "    # Use already prepared datasets with zero-filled missing values\n",
    "    X_train_zero = df_laptops_filt_train_zero\n",
    "    y_train_zero = df_laptops_filt_train['final_price'].values\n",
    "    \n",
    "    w0, w = train_linear_regression_reg(X_train_zero, y_train_zero, r=r)\n",
    "\n",
    "    # Evaluate the model on the validation dataset\n",
    "    X_val_zero = df_laptops_filt_val_zero\n",
    "    y_val_zero = df_laptops_filt_val['final_price'].values\n",
    "    y_pred = w0 + X_val_zero.dot(w)\n",
    "    score = rmse(y_val_zero, y_pred)\n",
    "    \n",
    "    score_round = round(score, 2) # Round score to two decimal digits\n",
    "    \n",
    "    print(f\"Regularization (r={r}): w0={w0}, RMSE={score_round}\") "
   ]
  },
  {
   "cell_type": "markdown",
   "id": "6ef99144-21cf-4b8a-a525-af9b33e8b855",
   "metadata": {},
   "source": [
    "#### Question 4 - Answer: 0"
   ]
  },
  {
   "cell_type": "markdown",
   "id": "ec7b5e22",
   "metadata": {},
   "source": [
    "### Question 5\n",
    "\n",
    "- We used seed 42 for splitting the data. Let's find out how selecting the seed influences our score.\n",
    "- Try different seed values: [0, 1, 2, 3, 4, 5, 6, 7, 8, 9].\n",
    "- For each seed, do the train/validation/test split with 60%/20%/20% distribution.\n",
    "- Fill the missing values with 0 and train a model without regularization.\n",
    "- For each seed, evaluate the model on the validation dataset and collect the RMSE scores.\n",
    "- What's the standard deviation of all the scores? To compute the standard deviation, use np.std.\n",
    "- Round the result to 3 decimal digits (round(std, 3))\n",
    "\n",
    "##### What's the value of std?\n",
    "\n",
    "- 19.176\n",
    "- 29.176\n",
    "- 39.176\n",
    "- 49.176\n",
    "\n",
    "Note: Standard deviation shows how different the values are. If it's low, then all values are approximately the same. If it's high, the values are different. If standard deviation of scores is low, then our model is stable."
   ]
  },
  {
   "cell_type": "code",
   "execution_count": 362,
   "id": "2423f400-3fbb-4361-8275-82ad93e1b2dc",
   "metadata": {},
   "outputs": [
    {
     "name": "stdout",
     "output_type": "stream",
     "text": [
      "Standard deviation of RMSE scores: 29.176\n"
     ]
    }
   ],
   "source": [
    "# Define the base features\n",
    "base = ['ram', 'storage', 'screen']  # Exclude 'final_price' as it's the target variable\n",
    "\n",
    "# Define your features (X) and target variable (y)\n",
    "X = df_laptops_filt[base].fillna(0).values  # Features\n",
    "y = df_laptops_filt['final_price'].values   # Target variable\n",
    "\n",
    "# Get the total length of the dataset\n",
    "n = len(df_laptops_filt)\n",
    "\n",
    "# Define the number of rows for validation and test sets (each 20%)\n",
    "n_val = int(n * 0.2)\n",
    "n_test = int(n * 0.2)\n",
    "n_train = n - n_val - n_test  # The remaining rows are for training\n",
    "\n",
    "# List to store the RMSE for each seed\n",
    "rmse_scores = []\n",
    "\n",
    "# Function for RMSE calculation\n",
    "def rmse(y, y_pred):\n",
    "    return np.sqrt(np.mean((y - y_pred) ** 2))\n",
    "\n",
    "# Loop over each seed value to test the impact on the RMSE\n",
    "for seed in range(10):\n",
    "    # Shuffle the dataset with the given seed for consistency\n",
    "    idx = np.arange(n)\n",
    "    np.random.seed(seed)\n",
    "    np.random.shuffle(idx)\n",
    "\n",
    "    # Shuffle the data based on the randomized indices\n",
    "    X_shuffled = X[idx]\n",
    "    y_shuffled = y[idx]\n",
    "\n",
    "    # Split the data into train, validation, and test sets\n",
    "    X_train = X_shuffled[:n_train]\n",
    "    y_train = y_shuffled[:n_train]\n",
    "    \n",
    "    X_val = X_shuffled[n_train:n_train + n_val]\n",
    "    y_val = y_shuffled[n_train:n_train + n_val]\n",
    "    \n",
    "    X_test = X_shuffled[n_train + n_val:]\n",
    "    y_test = y_shuffled[n_train + n_val:]\n",
    "\n",
    "    # Train the linear regression model without regularization (r=0)\n",
    "    w0, w = train_linear_regression_reg(X_train, y_train, r=0)\n",
    "\n",
    "    # Make predictions on the validation set\n",
    "    y_pred = w0 + X_val.dot(w)\n",
    "\n",
    "    # Calculate RMSE and store the score\n",
    "    score = rmse(y_val, y_pred)\n",
    "    rmse_scores.append(score)\n",
    "\n",
    "# Calculate the standard deviation of the RMSE scores\n",
    "std = np.std(rmse_scores)\n",
    "\n",
    "# Print the result rounded to 3 decimal places\n",
    "print(\"Standard deviation of RMSE scores:\", round(std, 3))"
   ]
  },
  {
   "cell_type": "markdown",
   "id": "736b2d2a",
   "metadata": {},
   "source": [
    "#### Q5 - Answer: 29.176"
   ]
  },
  {
   "cell_type": "markdown",
   "id": "ef7b9303",
   "metadata": {},
   "source": [
    "### Question 6\n",
    "\n",
    "- Split the dataset like previously, use seed 9.\n",
    "- Combine train and validation datasets.\n",
    "- Fill the missing values with 0 and train a model with r=0.001.\n",
    "- What's the RMSE on the test dataset?\n",
    "\n",
    "##### Options:\n",
    "\n",
    "- 598.60\n",
    "- 608.60\n",
    "- 618.60\n",
    "- 628.60"
   ]
  },
  {
   "cell_type": "code",
   "execution_count": 368,
   "id": "9e1833ee-3d42-4f37-b7f3-a24e0ac8c3f9",
   "metadata": {},
   "outputs": [
    {
     "name": "stdout",
     "output_type": "stream",
     "text": [
      "RMSE on the test dataset: 608.6102784353469\n"
     ]
    }
   ],
   "source": [
    "# Define the base features\n",
    "base = ['ram', 'storage', 'screen']  # Exclude 'final_price' as it's the target variable\n",
    "\n",
    "# Define your features (X) and target variable (y)\n",
    "X = df_laptops_filt[base].fillna(0).values  # Features\n",
    "y = df_laptops_filt['final_price'].values   # Target variable\n",
    "\n",
    "# Get the total length of the dataset\n",
    "n = len(df_laptops_filt)\n",
    "\n",
    "# Define the number of rows for validation and test sets (each 20%)\n",
    "n_val = int(n * 0.2)\n",
    "n_test = int(n * 0.2)\n",
    "n_train = n - n_val - n_test  # The remaining rows are for training\n",
    "\n",
    "# Use seed 9 for the split\n",
    "seed = 9\n",
    "\n",
    "# Shuffle the dataset with seed 9\n",
    "idx = np.arange(n)\n",
    "np.random.seed(seed)\n",
    "np.random.shuffle(idx)\n",
    "\n",
    "# Shuffle the data based on the randomized indices\n",
    "X_shuffled = X[idx]\n",
    "y_shuffled = y[idx]\n",
    "\n",
    "# Split the data into train+validation and test sets\n",
    "X_train_val = X_shuffled[:n_train + n_val]\n",
    "y_train_val = y_shuffled[:n_train + n_val]\n",
    "\n",
    "X_test = X_shuffled[n_train + n_val:]\n",
    "y_test = y_shuffled[n_train + n_val:]\n",
    "\n",
    "# Train the linear regression model with regularization r=0.001\n",
    "w0, w = train_linear_regression_reg(X_train_val, y_train_val, r=0.001)\n",
    "\n",
    "# Make predictions on the test set\n",
    "y_pred_test = w0 + X_test.dot(w)\n",
    "\n",
    "# Calculate RMSE for the test set\n",
    "def rmse(y, y_pred):\n",
    "    return np.sqrt(np.mean((y - y_pred) ** 2))\n",
    "\n",
    "test_rmse = rmse(y_test, y_pred_test)\n",
    "\n",
    "# Print the RMSE for the test dataset\n",
    "print(\"RMSE on the test dataset:\", test_rmse)"
   ]
  },
  {
   "cell_type": "markdown",
   "id": "861cdfc5",
   "metadata": {},
   "source": [
    "#### Q5 - Answer: 608.61"
   ]
  }
 ],
 "metadata": {
  "kernelspec": {
   "display_name": "Python 3 (ipykernel)",
   "language": "python",
   "name": "python3"
  },
  "language_info": {
   "codemirror_mode": {
    "name": "ipython",
    "version": 3
   },
   "file_extension": ".py",
   "mimetype": "text/x-python",
   "name": "python",
   "nbconvert_exporter": "python",
   "pygments_lexer": "ipython3",
   "version": "3.11.10"
  }
 },
 "nbformat": 4,
 "nbformat_minor": 5
}
